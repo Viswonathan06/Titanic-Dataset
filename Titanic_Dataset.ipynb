{
  "nbformat": 4,
  "nbformat_minor": 0,
  "metadata": {
    "colab": {
      "name": "Titanic Dataset.ipynb",
      "provenance": [],
      "collapsed_sections": [],
      "authorship_tag": "ABX9TyNzSCpYx9gd7FvbaQNlkqqX",
      "include_colab_link": true
    },
    "kernelspec": {
      "name": "python3",
      "display_name": "Python 3"
    }
  },
  "cells": [
    {
      "cell_type": "markdown",
      "metadata": {
        "id": "view-in-github",
        "colab_type": "text"
      },
      "source": [
        "<a href=\"https://colab.research.google.com/github/Viswonathan06/Titanic-Dataset/blob/main/Titanic_Dataset.ipynb\" target=\"_parent\"><img src=\"https://colab.research.google.com/assets/colab-badge.svg\" alt=\"Open In Colab\"/></a>"
      ]
    },
    {
      "cell_type": "markdown",
      "metadata": {
        "id": "3ovgxTRl3kaF"
      },
      "source": [
        "# **Titanic Dataset**\r\n",
        "\r\n",
        "### **Using PANDAS and MATPLOTLIB to evaluate and figure out the specifics of the Titanic dataset and draw some obvious conclusions dervied from the result of our code**.\r\n",
        "\r\n",
        "\r\n"
      ]
    },
    {
      "cell_type": "code",
      "metadata": {
        "id": "WM5bZx5C4DZy"
      },
      "source": [
        "import pandas as pd\r\n",
        "import numpy as np\r\n",
        "import matplotlib.pyplot as plt"
      ],
      "execution_count": 30,
      "outputs": []
    },
    {
      "cell_type": "code",
      "metadata": {
        "id": "yl2uY4Yw4QA6"
      },
      "source": [
        "df = pd.read_csv(\"https://gist.githubusercontent.com/michhar/2dfd2de0d4f8727f873422c5d959fff5/raw/fa71405126017e6a37bea592440b4bee94bf7b9e/titanic.csv\")"
      ],
      "execution_count": 31,
      "outputs": []
    },
    {
      "cell_type": "markdown",
      "metadata": {
        "id": "wOkJVUby5-8S"
      },
      "source": [
        "# **Basic overview of the data**\r\n",
        "\r\n",
        "\r\n",
        "---\r\n",
        "\r\n",
        "\r\n",
        "First we take a look at the head, i.e the first five rows of data. This gives us the basic overview and tells us the different columns that are present.\r\n",
        "\r\n",
        "The [x:y] function gives us values from x to y-1.\r\n",
        "\r\n",
        "\r\n",
        "\r\n",
        "---\r\n",
        "\r\n",
        "Information not obvious:\r\n",
        "\r\n",
        "* survival - Survival (0 = No; 1 = Yes)\r\n",
        "* class - Passenger Class (1 = 1st; 2 = 2nd; 3 = 3rd)\r\n",
        "* Name - Name\r\n",
        "* sex - Sex\r\n",
        "* age - Age\r\n",
        "* sibsp - Number of Siblings/Spouses Aboard\r\n",
        "* parch - Number of Parents/Children Aboard\r\n",
        "* ticket - Ticket Number\r\n",
        "* fare - Passenger Fare\r\n",
        "* cabin - Cabin\r\n",
        "* embarked - Port of Embarkation (C = Cherbourg; Q = Queenstown; S = Southampton)\r\n"
      ]
    },
    {
      "cell_type": "code",
      "metadata": {
        "colab": {
          "base_uri": "https://localhost:8080/",
          "height": 202
        },
        "id": "Fxw5-V6-4wot",
        "outputId": "bf0a97ea-db2e-4103-cfe5-cebc3b7dde74"
      },
      "source": [
        "df.head()\r\n",
        "\r\n",
        "#can also be done by \r\n",
        "#df[0:5]\r\n",
        "\r\n"
      ],
      "execution_count": 32,
      "outputs": [
        {
          "output_type": "execute_result",
          "data": {
            "text/html": [
              "<div>\n",
              "<style scoped>\n",
              "    .dataframe tbody tr th:only-of-type {\n",
              "        vertical-align: middle;\n",
              "    }\n",
              "\n",
              "    .dataframe tbody tr th {\n",
              "        vertical-align: top;\n",
              "    }\n",
              "\n",
              "    .dataframe thead th {\n",
              "        text-align: right;\n",
              "    }\n",
              "</style>\n",
              "<table border=\"1\" class=\"dataframe\">\n",
              "  <thead>\n",
              "    <tr style=\"text-align: right;\">\n",
              "      <th></th>\n",
              "      <th>PassengerId</th>\n",
              "      <th>Survived</th>\n",
              "      <th>Pclass</th>\n",
              "      <th>Name</th>\n",
              "      <th>Sex</th>\n",
              "      <th>Age</th>\n",
              "      <th>SibSp</th>\n",
              "      <th>Parch</th>\n",
              "      <th>Ticket</th>\n",
              "      <th>Fare</th>\n",
              "      <th>Cabin</th>\n",
              "      <th>Embarked</th>\n",
              "    </tr>\n",
              "  </thead>\n",
              "  <tbody>\n",
              "    <tr>\n",
              "      <th>0</th>\n",
              "      <td>1</td>\n",
              "      <td>0</td>\n",
              "      <td>3</td>\n",
              "      <td>Braund, Mr. Owen Harris</td>\n",
              "      <td>male</td>\n",
              "      <td>22.0</td>\n",
              "      <td>1</td>\n",
              "      <td>0</td>\n",
              "      <td>A/5 21171</td>\n",
              "      <td>7.2500</td>\n",
              "      <td>NaN</td>\n",
              "      <td>S</td>\n",
              "    </tr>\n",
              "    <tr>\n",
              "      <th>1</th>\n",
              "      <td>2</td>\n",
              "      <td>1</td>\n",
              "      <td>1</td>\n",
              "      <td>Cumings, Mrs. John Bradley (Florence Briggs Th...</td>\n",
              "      <td>female</td>\n",
              "      <td>38.0</td>\n",
              "      <td>1</td>\n",
              "      <td>0</td>\n",
              "      <td>PC 17599</td>\n",
              "      <td>71.2833</td>\n",
              "      <td>C85</td>\n",
              "      <td>C</td>\n",
              "    </tr>\n",
              "    <tr>\n",
              "      <th>2</th>\n",
              "      <td>3</td>\n",
              "      <td>1</td>\n",
              "      <td>3</td>\n",
              "      <td>Heikkinen, Miss. Laina</td>\n",
              "      <td>female</td>\n",
              "      <td>26.0</td>\n",
              "      <td>0</td>\n",
              "      <td>0</td>\n",
              "      <td>STON/O2. 3101282</td>\n",
              "      <td>7.9250</td>\n",
              "      <td>NaN</td>\n",
              "      <td>S</td>\n",
              "    </tr>\n",
              "    <tr>\n",
              "      <th>3</th>\n",
              "      <td>4</td>\n",
              "      <td>1</td>\n",
              "      <td>1</td>\n",
              "      <td>Futrelle, Mrs. Jacques Heath (Lily May Peel)</td>\n",
              "      <td>female</td>\n",
              "      <td>35.0</td>\n",
              "      <td>1</td>\n",
              "      <td>0</td>\n",
              "      <td>113803</td>\n",
              "      <td>53.1000</td>\n",
              "      <td>C123</td>\n",
              "      <td>S</td>\n",
              "    </tr>\n",
              "    <tr>\n",
              "      <th>4</th>\n",
              "      <td>5</td>\n",
              "      <td>0</td>\n",
              "      <td>3</td>\n",
              "      <td>Allen, Mr. William Henry</td>\n",
              "      <td>male</td>\n",
              "      <td>35.0</td>\n",
              "      <td>0</td>\n",
              "      <td>0</td>\n",
              "      <td>373450</td>\n",
              "      <td>8.0500</td>\n",
              "      <td>NaN</td>\n",
              "      <td>S</td>\n",
              "    </tr>\n",
              "  </tbody>\n",
              "</table>\n",
              "</div>"
            ],
            "text/plain": [
              "   PassengerId  Survived  Pclass  ...     Fare Cabin  Embarked\n",
              "0            1         0       3  ...   7.2500   NaN         S\n",
              "1            2         1       1  ...  71.2833   C85         C\n",
              "2            3         1       3  ...   7.9250   NaN         S\n",
              "3            4         1       1  ...  53.1000  C123         S\n",
              "4            5         0       3  ...   8.0500   NaN         S\n",
              "\n",
              "[5 rows x 12 columns]"
            ]
          },
          "metadata": {
            "tags": []
          },
          "execution_count": 32
        }
      ]
    },
    {
      "cell_type": "markdown",
      "metadata": {
        "id": "fsbZbunt7Ak6"
      },
      "source": [
        "# Beginning our analysis\r\n",
        "\r\n",
        "Let's start off small and get a basic statistical overview. (some values here may or may not make sense, but let's see anyway.)"
      ]
    },
    {
      "cell_type": "code",
      "metadata": {
        "colab": {
          "base_uri": "https://localhost:8080/",
          "height": 294
        },
        "id": "4TVeRhIs55wx",
        "outputId": "10f55bb0-82a7-462a-aedd-f2804777e248"
      },
      "source": [
        "df.describe()"
      ],
      "execution_count": 33,
      "outputs": [
        {
          "output_type": "execute_result",
          "data": {
            "text/html": [
              "<div>\n",
              "<style scoped>\n",
              "    .dataframe tbody tr th:only-of-type {\n",
              "        vertical-align: middle;\n",
              "    }\n",
              "\n",
              "    .dataframe tbody tr th {\n",
              "        vertical-align: top;\n",
              "    }\n",
              "\n",
              "    .dataframe thead th {\n",
              "        text-align: right;\n",
              "    }\n",
              "</style>\n",
              "<table border=\"1\" class=\"dataframe\">\n",
              "  <thead>\n",
              "    <tr style=\"text-align: right;\">\n",
              "      <th></th>\n",
              "      <th>PassengerId</th>\n",
              "      <th>Survived</th>\n",
              "      <th>Pclass</th>\n",
              "      <th>Age</th>\n",
              "      <th>SibSp</th>\n",
              "      <th>Parch</th>\n",
              "      <th>Fare</th>\n",
              "    </tr>\n",
              "  </thead>\n",
              "  <tbody>\n",
              "    <tr>\n",
              "      <th>count</th>\n",
              "      <td>891.000000</td>\n",
              "      <td>891.000000</td>\n",
              "      <td>891.000000</td>\n",
              "      <td>714.000000</td>\n",
              "      <td>891.000000</td>\n",
              "      <td>891.000000</td>\n",
              "      <td>891.000000</td>\n",
              "    </tr>\n",
              "    <tr>\n",
              "      <th>mean</th>\n",
              "      <td>446.000000</td>\n",
              "      <td>0.383838</td>\n",
              "      <td>2.308642</td>\n",
              "      <td>29.699118</td>\n",
              "      <td>0.523008</td>\n",
              "      <td>0.381594</td>\n",
              "      <td>32.204208</td>\n",
              "    </tr>\n",
              "    <tr>\n",
              "      <th>std</th>\n",
              "      <td>257.353842</td>\n",
              "      <td>0.486592</td>\n",
              "      <td>0.836071</td>\n",
              "      <td>14.526497</td>\n",
              "      <td>1.102743</td>\n",
              "      <td>0.806057</td>\n",
              "      <td>49.693429</td>\n",
              "    </tr>\n",
              "    <tr>\n",
              "      <th>min</th>\n",
              "      <td>1.000000</td>\n",
              "      <td>0.000000</td>\n",
              "      <td>1.000000</td>\n",
              "      <td>0.420000</td>\n",
              "      <td>0.000000</td>\n",
              "      <td>0.000000</td>\n",
              "      <td>0.000000</td>\n",
              "    </tr>\n",
              "    <tr>\n",
              "      <th>25%</th>\n",
              "      <td>223.500000</td>\n",
              "      <td>0.000000</td>\n",
              "      <td>2.000000</td>\n",
              "      <td>20.125000</td>\n",
              "      <td>0.000000</td>\n",
              "      <td>0.000000</td>\n",
              "      <td>7.910400</td>\n",
              "    </tr>\n",
              "    <tr>\n",
              "      <th>50%</th>\n",
              "      <td>446.000000</td>\n",
              "      <td>0.000000</td>\n",
              "      <td>3.000000</td>\n",
              "      <td>28.000000</td>\n",
              "      <td>0.000000</td>\n",
              "      <td>0.000000</td>\n",
              "      <td>14.454200</td>\n",
              "    </tr>\n",
              "    <tr>\n",
              "      <th>75%</th>\n",
              "      <td>668.500000</td>\n",
              "      <td>1.000000</td>\n",
              "      <td>3.000000</td>\n",
              "      <td>38.000000</td>\n",
              "      <td>1.000000</td>\n",
              "      <td>0.000000</td>\n",
              "      <td>31.000000</td>\n",
              "    </tr>\n",
              "    <tr>\n",
              "      <th>max</th>\n",
              "      <td>891.000000</td>\n",
              "      <td>1.000000</td>\n",
              "      <td>3.000000</td>\n",
              "      <td>80.000000</td>\n",
              "      <td>8.000000</td>\n",
              "      <td>6.000000</td>\n",
              "      <td>512.329200</td>\n",
              "    </tr>\n",
              "  </tbody>\n",
              "</table>\n",
              "</div>"
            ],
            "text/plain": [
              "       PassengerId    Survived      Pclass  ...       SibSp       Parch        Fare\n",
              "count   891.000000  891.000000  891.000000  ...  891.000000  891.000000  891.000000\n",
              "mean    446.000000    0.383838    2.308642  ...    0.523008    0.381594   32.204208\n",
              "std     257.353842    0.486592    0.836071  ...    1.102743    0.806057   49.693429\n",
              "min       1.000000    0.000000    1.000000  ...    0.000000    0.000000    0.000000\n",
              "25%     223.500000    0.000000    2.000000  ...    0.000000    0.000000    7.910400\n",
              "50%     446.000000    0.000000    3.000000  ...    0.000000    0.000000   14.454200\n",
              "75%     668.500000    1.000000    3.000000  ...    1.000000    0.000000   31.000000\n",
              "max     891.000000    1.000000    3.000000  ...    8.000000    6.000000  512.329200\n",
              "\n",
              "[8 rows x 7 columns]"
            ]
          },
          "metadata": {
            "tags": []
          },
          "execution_count": 33
        }
      ]
    },
    {
      "cell_type": "markdown",
      "metadata": {
        "id": "Bl_M9Dyo7nCI"
      },
      "source": [
        "We see that there are a total of 891 passengers taken into account in this database. The mean for the columns PassengerId, Pclass make no sense, so we shall ignore those. \r\n",
        "\r\n",
        "* We see that the mean of age is about 29.7 years, which means most of the people on board were middle-aged adults. \r\n",
        "\r\n",
        "* Mean fare was \\$32.20 which means that there were a lot of people with tickets in the lower class comparatively. Maximum fare was \\$512.33.\r\n",
        "\r\n",
        "Rest of the data will be made clear as we move along.\r\n"
      ]
    },
    {
      "cell_type": "markdown",
      "metadata": {
        "id": "aJdAwUG-9nAh"
      },
      "source": [
        "Now let's take a look at the number of people who survived the sinking of Titanic.\r\n"
      ]
    },
    {
      "cell_type": "code",
      "metadata": {
        "colab": {
          "base_uri": "https://localhost:8080/",
          "height": 141
        },
        "id": "MTadXtJc6fbj",
        "outputId": "60620e2a-5afc-4071-fe6c-e8061e1f6677"
      },
      "source": [
        "df.groupby('Survived').count()[['PassengerId']]"
      ],
      "execution_count": 34,
      "outputs": [
        {
          "output_type": "execute_result",
          "data": {
            "text/html": [
              "<div>\n",
              "<style scoped>\n",
              "    .dataframe tbody tr th:only-of-type {\n",
              "        vertical-align: middle;\n",
              "    }\n",
              "\n",
              "    .dataframe tbody tr th {\n",
              "        vertical-align: top;\n",
              "    }\n",
              "\n",
              "    .dataframe thead th {\n",
              "        text-align: right;\n",
              "    }\n",
              "</style>\n",
              "<table border=\"1\" class=\"dataframe\">\n",
              "  <thead>\n",
              "    <tr style=\"text-align: right;\">\n",
              "      <th></th>\n",
              "      <th>PassengerId</th>\n",
              "    </tr>\n",
              "    <tr>\n",
              "      <th>Survived</th>\n",
              "      <th></th>\n",
              "    </tr>\n",
              "  </thead>\n",
              "  <tbody>\n",
              "    <tr>\n",
              "      <th>0</th>\n",
              "      <td>549</td>\n",
              "    </tr>\n",
              "    <tr>\n",
              "      <th>1</th>\n",
              "      <td>342</td>\n",
              "    </tr>\n",
              "  </tbody>\n",
              "</table>\n",
              "</div>"
            ],
            "text/plain": [
              "          PassengerId\n",
              "Survived             \n",
              "0                 549\n",
              "1                 342"
            ]
          },
          "metadata": {
            "tags": []
          },
          "execution_count": 34
        }
      ]
    },
    {
      "cell_type": "markdown",
      "metadata": {
        "id": "BwdMR_Ja_UDS"
      },
      "source": [
        "Here we see that, the number of people who survived are 549 and number of peeople who died are 342.\r\n",
        "\r\n",
        "\r\n",
        "---\r\n",
        "\r\n",
        "Now let's analyse the following:\r\n",
        "Amongst the number of survivors,\r\n",
        "* how many had family on board and,\r\n",
        "* what class in the boat did they reside.\r\n",
        "\r\n",
        "\r\n",
        "---\r\n",
        "\r\n",
        "First let's take a look at how many people were there in the various classes of the boat.\r\n",
        "\r\n",
        "\r\n",
        "\r\n"
      ]
    },
    {
      "cell_type": "code",
      "metadata": {
        "colab": {
          "base_uri": "https://localhost:8080/",
          "height": 171
        },
        "id": "OGvX_TbEAmqQ",
        "outputId": "8ce395f3-e8fb-4428-ce66-cad4fdbf1735"
      },
      "source": [
        "df.groupby('Pclass').count()[['PassengerId']]"
      ],
      "execution_count": 35,
      "outputs": [
        {
          "output_type": "execute_result",
          "data": {
            "text/html": [
              "<div>\n",
              "<style scoped>\n",
              "    .dataframe tbody tr th:only-of-type {\n",
              "        vertical-align: middle;\n",
              "    }\n",
              "\n",
              "    .dataframe tbody tr th {\n",
              "        vertical-align: top;\n",
              "    }\n",
              "\n",
              "    .dataframe thead th {\n",
              "        text-align: right;\n",
              "    }\n",
              "</style>\n",
              "<table border=\"1\" class=\"dataframe\">\n",
              "  <thead>\n",
              "    <tr style=\"text-align: right;\">\n",
              "      <th></th>\n",
              "      <th>PassengerId</th>\n",
              "    </tr>\n",
              "    <tr>\n",
              "      <th>Pclass</th>\n",
              "      <th></th>\n",
              "    </tr>\n",
              "  </thead>\n",
              "  <tbody>\n",
              "    <tr>\n",
              "      <th>1</th>\n",
              "      <td>216</td>\n",
              "    </tr>\n",
              "    <tr>\n",
              "      <th>2</th>\n",
              "      <td>184</td>\n",
              "    </tr>\n",
              "    <tr>\n",
              "      <th>3</th>\n",
              "      <td>491</td>\n",
              "    </tr>\n",
              "  </tbody>\n",
              "</table>\n",
              "</div>"
            ],
            "text/plain": [
              "        PassengerId\n",
              "Pclass             \n",
              "1               216\n",
              "2               184\n",
              "3               491"
            ]
          },
          "metadata": {
            "tags": []
          },
          "execution_count": 35
        }
      ]
    },
    {
      "cell_type": "markdown",
      "metadata": {
        "id": "aK8CtGd1BNn3"
      },
      "source": [
        "We notice that maximum people resided in third class as suspected above by looking at the mean fare\r\n",
        "\r\n",
        "\r\n",
        "---\r\n",
        "\r\n",
        "Now lets take a look at the survival numbers based on class\r\n"
      ]
    },
    {
      "cell_type": "code",
      "metadata": {
        "colab": {
          "base_uri": "https://localhost:8080/",
          "height": 263
        },
        "id": "iOB1Gacz_KCo",
        "outputId": "b1e7e51e-f2d7-4a36-d762-cc69d6c41517"
      },
      "source": [
        "df.groupby(['Survived', 'Pclass']).count()[['PassengerId']]"
      ],
      "execution_count": 36,
      "outputs": [
        {
          "output_type": "execute_result",
          "data": {
            "text/html": [
              "<div>\n",
              "<style scoped>\n",
              "    .dataframe tbody tr th:only-of-type {\n",
              "        vertical-align: middle;\n",
              "    }\n",
              "\n",
              "    .dataframe tbody tr th {\n",
              "        vertical-align: top;\n",
              "    }\n",
              "\n",
              "    .dataframe thead th {\n",
              "        text-align: right;\n",
              "    }\n",
              "</style>\n",
              "<table border=\"1\" class=\"dataframe\">\n",
              "  <thead>\n",
              "    <tr style=\"text-align: right;\">\n",
              "      <th></th>\n",
              "      <th></th>\n",
              "      <th>PassengerId</th>\n",
              "    </tr>\n",
              "    <tr>\n",
              "      <th>Survived</th>\n",
              "      <th>Pclass</th>\n",
              "      <th></th>\n",
              "    </tr>\n",
              "  </thead>\n",
              "  <tbody>\n",
              "    <tr>\n",
              "      <th rowspan=\"3\" valign=\"top\">0</th>\n",
              "      <th>1</th>\n",
              "      <td>80</td>\n",
              "    </tr>\n",
              "    <tr>\n",
              "      <th>2</th>\n",
              "      <td>97</td>\n",
              "    </tr>\n",
              "    <tr>\n",
              "      <th>3</th>\n",
              "      <td>372</td>\n",
              "    </tr>\n",
              "    <tr>\n",
              "      <th rowspan=\"3\" valign=\"top\">1</th>\n",
              "      <th>1</th>\n",
              "      <td>136</td>\n",
              "    </tr>\n",
              "    <tr>\n",
              "      <th>2</th>\n",
              "      <td>87</td>\n",
              "    </tr>\n",
              "    <tr>\n",
              "      <th>3</th>\n",
              "      <td>119</td>\n",
              "    </tr>\n",
              "  </tbody>\n",
              "</table>\n",
              "</div>"
            ],
            "text/plain": [
              "                 PassengerId\n",
              "Survived Pclass             \n",
              "0        1                80\n",
              "         2                97\n",
              "         3               372\n",
              "1        1               136\n",
              "         2                87\n",
              "         3               119"
            ]
          },
          "metadata": {
            "tags": []
          },
          "execution_count": 36
        }
      ]
    },
    {
      "cell_type": "markdown",
      "metadata": {
        "id": "6dYZ8nNPAOch"
      },
      "source": [
        "Here we see that, amongst the people that **did not** survive, 80 were in the 1st class while 372 were in the third class. \r\n",
        "\r\n",
        "We notice that amongst the people in third class, with total of 491 people, 372 were dead and only 119 were alive. \r\n",
        "\r\n",
        "It was not the case in first class however, where 80 out of 216 died and 136 people were alive. "
      ]
    },
    {
      "cell_type": "markdown",
      "metadata": {
        "id": "fg0qNbKZC8br"
      },
      "source": [
        "Let's take a look at the number of male and female passengers."
      ]
    },
    {
      "cell_type": "code",
      "metadata": {
        "colab": {
          "base_uri": "https://localhost:8080/",
          "height": 141
        },
        "id": "hjhlCB9YDB4h",
        "outputId": "abcd2f04-c95e-4db4-ea32-a5db4a59a61a"
      },
      "source": [
        "df.groupby('Sex').count()[['PassengerId']]"
      ],
      "execution_count": 37,
      "outputs": [
        {
          "output_type": "execute_result",
          "data": {
            "text/html": [
              "<div>\n",
              "<style scoped>\n",
              "    .dataframe tbody tr th:only-of-type {\n",
              "        vertical-align: middle;\n",
              "    }\n",
              "\n",
              "    .dataframe tbody tr th {\n",
              "        vertical-align: top;\n",
              "    }\n",
              "\n",
              "    .dataframe thead th {\n",
              "        text-align: right;\n",
              "    }\n",
              "</style>\n",
              "<table border=\"1\" class=\"dataframe\">\n",
              "  <thead>\n",
              "    <tr style=\"text-align: right;\">\n",
              "      <th></th>\n",
              "      <th>PassengerId</th>\n",
              "    </tr>\n",
              "    <tr>\n",
              "      <th>Sex</th>\n",
              "      <th></th>\n",
              "    </tr>\n",
              "  </thead>\n",
              "  <tbody>\n",
              "    <tr>\n",
              "      <th>female</th>\n",
              "      <td>314</td>\n",
              "    </tr>\n",
              "    <tr>\n",
              "      <th>male</th>\n",
              "      <td>577</td>\n",
              "    </tr>\n",
              "  </tbody>\n",
              "</table>\n",
              "</div>"
            ],
            "text/plain": [
              "        PassengerId\n",
              "Sex                \n",
              "female          314\n",
              "male            577"
            ]
          },
          "metadata": {
            "tags": []
          },
          "execution_count": 37
        }
      ]
    },
    {
      "cell_type": "markdown",
      "metadata": {
        "id": "5RKsm3ZFCXLA"
      },
      "source": [
        "\r\n",
        "\r\n",
        "Now let's look at the male to female ratio of the survivors and dead people."
      ]
    },
    {
      "cell_type": "code",
      "metadata": {
        "colab": {
          "base_uri": "https://localhost:8080/",
          "height": 202
        },
        "id": "nt6vNh3K98ZM",
        "outputId": "c50994e2-e9df-4ad0-e4b8-3a04dc8cfabf"
      },
      "source": [
        "df.groupby(['Survived', 'Sex']).count()[['PassengerId']]"
      ],
      "execution_count": 38,
      "outputs": [
        {
          "output_type": "execute_result",
          "data": {
            "text/html": [
              "<div>\n",
              "<style scoped>\n",
              "    .dataframe tbody tr th:only-of-type {\n",
              "        vertical-align: middle;\n",
              "    }\n",
              "\n",
              "    .dataframe tbody tr th {\n",
              "        vertical-align: top;\n",
              "    }\n",
              "\n",
              "    .dataframe thead th {\n",
              "        text-align: right;\n",
              "    }\n",
              "</style>\n",
              "<table border=\"1\" class=\"dataframe\">\n",
              "  <thead>\n",
              "    <tr style=\"text-align: right;\">\n",
              "      <th></th>\n",
              "      <th></th>\n",
              "      <th>PassengerId</th>\n",
              "    </tr>\n",
              "    <tr>\n",
              "      <th>Survived</th>\n",
              "      <th>Sex</th>\n",
              "      <th></th>\n",
              "    </tr>\n",
              "  </thead>\n",
              "  <tbody>\n",
              "    <tr>\n",
              "      <th rowspan=\"2\" valign=\"top\">0</th>\n",
              "      <th>female</th>\n",
              "      <td>81</td>\n",
              "    </tr>\n",
              "    <tr>\n",
              "      <th>male</th>\n",
              "      <td>468</td>\n",
              "    </tr>\n",
              "    <tr>\n",
              "      <th rowspan=\"2\" valign=\"top\">1</th>\n",
              "      <th>female</th>\n",
              "      <td>233</td>\n",
              "    </tr>\n",
              "    <tr>\n",
              "      <th>male</th>\n",
              "      <td>109</td>\n",
              "    </tr>\n",
              "  </tbody>\n",
              "</table>\n",
              "</div>"
            ],
            "text/plain": [
              "                 PassengerId\n",
              "Survived Sex                \n",
              "0        female           81\n",
              "         male            468\n",
              "1        female          233\n",
              "         male            109"
            ]
          },
          "metadata": {
            "tags": []
          },
          "execution_count": 38
        }
      ]
    },
    {
      "cell_type": "markdown",
      "metadata": {
        "id": "f-vVHZYmCt9I"
      },
      "source": [
        "As we know that the women and children were evacuated first, the number of male deaths were staggeringly high as compared to the female. As a result, number of male survivers also were less compared to that over female. \r\n",
        "\r\n",
        "* 468/577 dead males\r\n",
        "* 81/314 dead females"
      ]
    },
    {
      "cell_type": "markdown",
      "metadata": {
        "id": "AHeyLeBeE7Ju"
      },
      "source": [
        "Let's analyse how many people were under the age of 18."
      ]
    },
    {
      "cell_type": "code",
      "metadata": {
        "colab": {
          "base_uri": "https://localhost:8080/"
        },
        "id": "_5b1J1clFnNq",
        "outputId": "5dd2108b-f94b-4b71-865b-4e3583f3d4ca"
      },
      "source": [
        "df[df.Age <= 18].count()[['PassengerId']]"
      ],
      "execution_count": 39,
      "outputs": [
        {
          "output_type": "execute_result",
          "data": {
            "text/plain": [
              "PassengerId    139\n",
              "dtype: int64"
            ]
          },
          "metadata": {
            "tags": []
          },
          "execution_count": 39
        }
      ]
    },
    {
      "cell_type": "markdown",
      "metadata": {
        "id": "hwoggpIHFtUB"
      },
      "source": [
        "139 people were under or of the age 18 i.e children. \r\n",
        "\r\n",
        "\r\n",
        "---\r\n",
        "\r\n",
        "How many of these children survived the sinking?"
      ]
    },
    {
      "cell_type": "code",
      "metadata": {
        "colab": {
          "base_uri": "https://localhost:8080/",
          "height": 141
        },
        "id": "idlCQSpmCj_k",
        "outputId": "f1331495-3f03-49ab-86e3-0423449773a9"
      },
      "source": [
        "df[df.Age <= 18].groupby('Survived').count()[['PassengerId']]"
      ],
      "execution_count": 40,
      "outputs": [
        {
          "output_type": "execute_result",
          "data": {
            "text/html": [
              "<div>\n",
              "<style scoped>\n",
              "    .dataframe tbody tr th:only-of-type {\n",
              "        vertical-align: middle;\n",
              "    }\n",
              "\n",
              "    .dataframe tbody tr th {\n",
              "        vertical-align: top;\n",
              "    }\n",
              "\n",
              "    .dataframe thead th {\n",
              "        text-align: right;\n",
              "    }\n",
              "</style>\n",
              "<table border=\"1\" class=\"dataframe\">\n",
              "  <thead>\n",
              "    <tr style=\"text-align: right;\">\n",
              "      <th></th>\n",
              "      <th>PassengerId</th>\n",
              "    </tr>\n",
              "    <tr>\n",
              "      <th>Survived</th>\n",
              "      <th></th>\n",
              "    </tr>\n",
              "  </thead>\n",
              "  <tbody>\n",
              "    <tr>\n",
              "      <th>0</th>\n",
              "      <td>69</td>\n",
              "    </tr>\n",
              "    <tr>\n",
              "      <th>1</th>\n",
              "      <td>70</td>\n",
              "    </tr>\n",
              "  </tbody>\n",
              "</table>\n",
              "</div>"
            ],
            "text/plain": [
              "          PassengerId\n",
              "Survived             \n",
              "0                  69\n",
              "1                  70"
            ]
          },
          "metadata": {
            "tags": []
          },
          "execution_count": 40
        }
      ]
    },
    {
      "cell_type": "markdown",
      "metadata": {
        "id": "p7oCESoaF5Th"
      },
      "source": [
        "Sadly, about half the children did not make it out of the boat. \r\n",
        "\r\n",
        "\r\n",
        "\r\n",
        "---\r\n",
        "\r\n",
        "Youngest person to die?\r\n"
      ]
    },
    {
      "cell_type": "code",
      "metadata": {
        "colab": {
          "base_uri": "https://localhost:8080/",
          "height": 415
        },
        "id": "lT26gGz1FhL-",
        "outputId": "fbb129bd-9b0b-4136-9bc5-3901ba0dd886"
      },
      "source": [
        "#df.sort_values(by = 'Age',ascending= True)[['Survived','Age']]\r\n",
        "dead = df[df.Survived == 0].sort_values(by = 'Age')\r\n",
        "dead = dead[dead['Age'].notnull()] ## Here we choose the rows which dont have age as NULL to check the eldest recorded person. \r\n",
        "dead\r\n",
        "# dead = df[df.Survived == 0]\r\n",
        "# dead[dead.Age.min()]"
      ],
      "execution_count": 41,
      "outputs": [
        {
          "output_type": "execute_result",
          "data": {
            "text/html": [
              "<div>\n",
              "<style scoped>\n",
              "    .dataframe tbody tr th:only-of-type {\n",
              "        vertical-align: middle;\n",
              "    }\n",
              "\n",
              "    .dataframe tbody tr th {\n",
              "        vertical-align: top;\n",
              "    }\n",
              "\n",
              "    .dataframe thead th {\n",
              "        text-align: right;\n",
              "    }\n",
              "</style>\n",
              "<table border=\"1\" class=\"dataframe\">\n",
              "  <thead>\n",
              "    <tr style=\"text-align: right;\">\n",
              "      <th></th>\n",
              "      <th>PassengerId</th>\n",
              "      <th>Survived</th>\n",
              "      <th>Pclass</th>\n",
              "      <th>Name</th>\n",
              "      <th>Sex</th>\n",
              "      <th>Age</th>\n",
              "      <th>SibSp</th>\n",
              "      <th>Parch</th>\n",
              "      <th>Ticket</th>\n",
              "      <th>Fare</th>\n",
              "      <th>Cabin</th>\n",
              "      <th>Embarked</th>\n",
              "    </tr>\n",
              "  </thead>\n",
              "  <tbody>\n",
              "    <tr>\n",
              "      <th>164</th>\n",
              "      <td>165</td>\n",
              "      <td>0</td>\n",
              "      <td>3</td>\n",
              "      <td>Panula, Master. Eino Viljami</td>\n",
              "      <td>male</td>\n",
              "      <td>1.0</td>\n",
              "      <td>4</td>\n",
              "      <td>1</td>\n",
              "      <td>3101295</td>\n",
              "      <td>39.6875</td>\n",
              "      <td>NaN</td>\n",
              "      <td>S</td>\n",
              "    </tr>\n",
              "    <tr>\n",
              "      <th>386</th>\n",
              "      <td>387</td>\n",
              "      <td>0</td>\n",
              "      <td>3</td>\n",
              "      <td>Goodwin, Master. Sidney Leonard</td>\n",
              "      <td>male</td>\n",
              "      <td>1.0</td>\n",
              "      <td>5</td>\n",
              "      <td>2</td>\n",
              "      <td>CA 2144</td>\n",
              "      <td>46.9000</td>\n",
              "      <td>NaN</td>\n",
              "      <td>S</td>\n",
              "    </tr>\n",
              "    <tr>\n",
              "      <th>642</th>\n",
              "      <td>643</td>\n",
              "      <td>0</td>\n",
              "      <td>3</td>\n",
              "      <td>Skoog, Miss. Margit Elizabeth</td>\n",
              "      <td>female</td>\n",
              "      <td>2.0</td>\n",
              "      <td>3</td>\n",
              "      <td>2</td>\n",
              "      <td>347088</td>\n",
              "      <td>27.9000</td>\n",
              "      <td>NaN</td>\n",
              "      <td>S</td>\n",
              "    </tr>\n",
              "    <tr>\n",
              "      <th>205</th>\n",
              "      <td>206</td>\n",
              "      <td>0</td>\n",
              "      <td>3</td>\n",
              "      <td>Strom, Miss. Telma Matilda</td>\n",
              "      <td>female</td>\n",
              "      <td>2.0</td>\n",
              "      <td>0</td>\n",
              "      <td>1</td>\n",
              "      <td>347054</td>\n",
              "      <td>10.4625</td>\n",
              "      <td>G6</td>\n",
              "      <td>S</td>\n",
              "    </tr>\n",
              "    <tr>\n",
              "      <th>297</th>\n",
              "      <td>298</td>\n",
              "      <td>0</td>\n",
              "      <td>1</td>\n",
              "      <td>Allison, Miss. Helen Loraine</td>\n",
              "      <td>female</td>\n",
              "      <td>2.0</td>\n",
              "      <td>1</td>\n",
              "      <td>2</td>\n",
              "      <td>113781</td>\n",
              "      <td>151.5500</td>\n",
              "      <td>C22 C26</td>\n",
              "      <td>S</td>\n",
              "    </tr>\n",
              "    <tr>\n",
              "      <th>...</th>\n",
              "      <td>...</td>\n",
              "      <td>...</td>\n",
              "      <td>...</td>\n",
              "      <td>...</td>\n",
              "      <td>...</td>\n",
              "      <td>...</td>\n",
              "      <td>...</td>\n",
              "      <td>...</td>\n",
              "      <td>...</td>\n",
              "      <td>...</td>\n",
              "      <td>...</td>\n",
              "      <td>...</td>\n",
              "    </tr>\n",
              "    <tr>\n",
              "      <th>672</th>\n",
              "      <td>673</td>\n",
              "      <td>0</td>\n",
              "      <td>2</td>\n",
              "      <td>Mitchell, Mr. Henry Michael</td>\n",
              "      <td>male</td>\n",
              "      <td>70.0</td>\n",
              "      <td>0</td>\n",
              "      <td>0</td>\n",
              "      <td>C.A. 24580</td>\n",
              "      <td>10.5000</td>\n",
              "      <td>NaN</td>\n",
              "      <td>S</td>\n",
              "    </tr>\n",
              "    <tr>\n",
              "      <th>116</th>\n",
              "      <td>117</td>\n",
              "      <td>0</td>\n",
              "      <td>3</td>\n",
              "      <td>Connors, Mr. Patrick</td>\n",
              "      <td>male</td>\n",
              "      <td>70.5</td>\n",
              "      <td>0</td>\n",
              "      <td>0</td>\n",
              "      <td>370369</td>\n",
              "      <td>7.7500</td>\n",
              "      <td>NaN</td>\n",
              "      <td>Q</td>\n",
              "    </tr>\n",
              "    <tr>\n",
              "      <th>493</th>\n",
              "      <td>494</td>\n",
              "      <td>0</td>\n",
              "      <td>1</td>\n",
              "      <td>Artagaveytia, Mr. Ramon</td>\n",
              "      <td>male</td>\n",
              "      <td>71.0</td>\n",
              "      <td>0</td>\n",
              "      <td>0</td>\n",
              "      <td>PC 17609</td>\n",
              "      <td>49.5042</td>\n",
              "      <td>NaN</td>\n",
              "      <td>C</td>\n",
              "    </tr>\n",
              "    <tr>\n",
              "      <th>96</th>\n",
              "      <td>97</td>\n",
              "      <td>0</td>\n",
              "      <td>1</td>\n",
              "      <td>Goldschmidt, Mr. George B</td>\n",
              "      <td>male</td>\n",
              "      <td>71.0</td>\n",
              "      <td>0</td>\n",
              "      <td>0</td>\n",
              "      <td>PC 17754</td>\n",
              "      <td>34.6542</td>\n",
              "      <td>A5</td>\n",
              "      <td>C</td>\n",
              "    </tr>\n",
              "    <tr>\n",
              "      <th>851</th>\n",
              "      <td>852</td>\n",
              "      <td>0</td>\n",
              "      <td>3</td>\n",
              "      <td>Svensson, Mr. Johan</td>\n",
              "      <td>male</td>\n",
              "      <td>74.0</td>\n",
              "      <td>0</td>\n",
              "      <td>0</td>\n",
              "      <td>347060</td>\n",
              "      <td>7.7750</td>\n",
              "      <td>NaN</td>\n",
              "      <td>S</td>\n",
              "    </tr>\n",
              "  </tbody>\n",
              "</table>\n",
              "<p>424 rows × 12 columns</p>\n",
              "</div>"
            ],
            "text/plain": [
              "     PassengerId  Survived  Pclass  ...      Fare    Cabin  Embarked\n",
              "164          165         0       3  ...   39.6875      NaN         S\n",
              "386          387         0       3  ...   46.9000      NaN         S\n",
              "642          643         0       3  ...   27.9000      NaN         S\n",
              "205          206         0       3  ...   10.4625       G6         S\n",
              "297          298         0       1  ...  151.5500  C22 C26         S\n",
              "..           ...       ...     ...  ...       ...      ...       ...\n",
              "672          673         0       2  ...   10.5000      NaN         S\n",
              "116          117         0       3  ...    7.7500      NaN         Q\n",
              "493          494         0       1  ...   49.5042      NaN         C\n",
              "96            97         0       1  ...   34.6542       A5         C\n",
              "851          852         0       3  ...    7.7750      NaN         S\n",
              "\n",
              "[424 rows x 12 columns]"
            ]
          },
          "metadata": {
            "tags": []
          },
          "execution_count": 41
        }
      ]
    },
    {
      "cell_type": "markdown",
      "metadata": {
        "id": "HpMIRuJyIo6M"
      },
      "source": [
        "Here we see that, according to this dataset, youngest person to die on the ship was 1 year old. and eldest person to die, that we have a record of, is 74 years old. \r\n",
        "\r\n",
        "\r\n",
        "\r\n",
        "---\r\n",
        "\r\n",
        "---\r\n",
        "\r\n",
        "We shall now see some graphical representations of the above data using matplotlib. \r\n",
        "\r\n",
        "# Matplotlib and Seaborn\r\n",
        "\r\n",
        "\r\n"
      ]
    },
    {
      "cell_type": "code",
      "metadata": {
        "id": "j7OlACFGKJg2"
      },
      "source": [
        "import seaborn as sns"
      ],
      "execution_count": 42,
      "outputs": []
    },
    {
      "cell_type": "markdown",
      "metadata": {
        "id": "j5T5sAWmhS_b"
      },
      "source": [
        "Plotting the different features of the dataset against their frequency to get a visual idea."
      ]
    },
    {
      "cell_type": "code",
      "metadata": {
        "colab": {
          "base_uri": "https://localhost:8080/",
          "height": 844
        },
        "id": "rJ6lPqeAfRqi",
        "outputId": "219e5223-cee1-4d17-c469-255ac54e513d"
      },
      "source": [
        "sns.distplot(df[\"Pclass\"], kde = False, color = \"red\", axlabel = \"Number of people in each class\")\r\n",
        "plt.show()\r\n",
        "sns.distplot(df.Survived, vertical = True, kde= False, color=\"green\", label= \" Number of suvivors and deaths \")\r\n",
        "plt.yticks([0,1])\r\n",
        "plt.show()\r\n",
        "sns.distplot(df.Age, vertical = False, kde= False, color=\"cyan\")\r\n",
        "plt.show()\r\n"
      ],
      "execution_count": 43,
      "outputs": [
        {
          "output_type": "stream",
          "text": [
            "/usr/local/lib/python3.6/dist-packages/seaborn/distributions.py:2551: FutureWarning: `distplot` is a deprecated function and will be removed in a future version. Please adapt your code to use either `displot` (a figure-level function with similar flexibility) or `histplot` (an axes-level function for histograms).\n",
            "  warnings.warn(msg, FutureWarning)\n"
          ],
          "name": "stderr"
        },
        {
          "output_type": "display_data",
          "data": {
            "image/png": "[encoded data removed]",
            "text/plain": [
              "<Figure size 432x288 with 1 Axes>"
            ]
          },
          "metadata": {
            "tags": [],
            "needs_background": "light"
          }
        },
        {
          "output_type": "display_data",
          "data": {
            "image/png": "[encoded data removed]",
            "text/plain": [
              "<Figure size 432x288 with 1 Axes>"
            ]
          },
          "metadata": {
            "tags": [],
            "needs_background": "light"
          }
        },
        {
          "output_type": "display_data",
          "data": {
            "image/png": "[encoded data removed]",
            "text/plain": [
              "<Figure size 432x288 with 1 Axes>"
            ]
          },
          "metadata": {
            "tags": [],
            "needs_background": "light"
          }
        }
      ]
    },
    {
      "cell_type": "markdown",
      "metadata": {
        "id": "gvE1Qy-ult7V"
      },
      "source": [
        "We get a visual representation of the data which coincides with the conclusions we made previously from analysing the dataset.\r\n",
        "\r\n",
        "---\r\n",
        "\r\n",
        "To get a better idea, we use countplots."
      ]
    },
    {
      "cell_type": "code",
      "metadata": {
        "colab": {
          "base_uri": "https://localhost:8080/",
          "height": 803
        },
        "id": "zHX-w892f6EY",
        "outputId": "964bf063-0052-41d6-eec0-5a6238b457b9"
      },
      "source": [
        "sns.countplot( x='Survived', data= df)\r\n",
        "plt.show()\r\n",
        "sns.countplot( x='Pclass', data= df)\r\n",
        "plt.show()\r\n",
        "sns.countplot( x='Age', data= df, hue= 'Sex')\r\n",
        "plt.xticks([1, 20, 40, 60, 80, 100])\r\n",
        "plt.show()"
      ],
      "execution_count": 44,
      "outputs": [
        {
          "output_type": "display_data",
          "data": {
            "image/png": "[encoded data removed]",
            "text/plain": [
              "<Figure size 432x288 with 1 Axes>"
            ]
          },
          "metadata": {
            "tags": [],
            "needs_background": "light"
          }
        },
        {
          "output_type": "display_data",
          "data": {
            "image/png": "[encoded data removed]",
            "text/plain": [
              "<Figure size 432x288 with 1 Axes>"
            ]
          },
          "metadata": {
            "tags": [],
            "needs_background": "light"
          }
        },
        {
          "output_type": "display_data",
          "data": {
            "image/png": "[encoded data removed]",
            "text/plain": [
              "<Figure size 432x288 with 1 Axes>"
            ]
          },
          "metadata": {
            "tags": [],
            "needs_background": "light"
          }
        }
      ]
    },
    {
      "cell_type": "markdown",
      "metadata": {
        "id": "i4qPNDGlryBd"
      },
      "source": [
        "Plotting the age and fare with the hue applied for sex where males are blue and females are while, we see that most of the cheaper seats were filled with many more males than females, while as the price increased, we see an increase in number of females than males. "
      ]
    },
    {
      "cell_type": "code",
      "metadata": {
        "colab": {
          "base_uri": "https://localhost:8080/",
          "height": 401
        },
        "id": "4hqqKbUbiKeA",
        "outputId": "fd5ca5bd-17d0-4928-a1d6-996023f4ab5c"
      },
      "source": [
        "sns.lmplot( x = 'Age', y = 'Fare', data = df, fit_reg= False, hue='Sex')"
      ],
      "execution_count": 45,
      "outputs": [
        {
          "output_type": "execute_result",
          "data": {
            "text/plain": [
              "<seaborn.axisgrid.FacetGrid at 0x7f88202a0240>"
            ]
          },
          "metadata": {
            "tags": []
          },
          "execution_count": 45
        },
        {
          "output_type": "display_data",
          "data": {
            "image/png": "[encoded data removed]",
            "text/plain": [
              "<Figure size 430.5x360 with 1 Axes>"
            ]
          },
          "metadata": {
            "tags": [],
            "needs_background": "light"
          }
        }
      ]
    },
    {
      "cell_type": "markdown",
      "metadata": {
        "id": "genlW_R5aLfH"
      },
      "source": [
        "Plotting the age and fare with the hue applied for survived where death are blue and survivals are while, we see that most of the cheaper seats ended up dead, while as the price increased, we see an that number of survivors were more compared to deaths."
      ]
    },
    {
      "cell_type": "code",
      "metadata": {
        "id": "wZVSVxGIrCMA",
        "colab": {
          "base_uri": "https://localhost:8080/",
          "height": 401
        },
        "outputId": "4d49aa81-8d68-4d0e-d37f-99931d263ade"
      },
      "source": [
        "sns.lmplot( x = 'Age', y = 'Fare', data = df, fit_reg= False, hue='Survived')"
      ],
      "execution_count": 46,
      "outputs": [
        {
          "output_type": "execute_result",
          "data": {
            "text/plain": [
              "<seaborn.axisgrid.FacetGrid at 0x7f882c1b0e48>"
            ]
          },
          "metadata": {
            "tags": []
          },
          "execution_count": 46
        },
        {
          "output_type": "display_data",
          "data": {
            "image/png": "[encoded data removed]",
            "text/plain": [
              "<Figure size 411.875x360 with 1 Axes>"
            ]
          },
          "metadata": {
            "tags": [],
            "needs_background": "light"
          }
        }
      ]
    },
    {
      "cell_type": "markdown",
      "metadata": {
        "id": "zFl5ukrtbgCC"
      },
      "source": [
        "Let's look at the boxplots of a few of the features/data."
      ]
    },
    {
      "cell_type": "code",
      "metadata": {
        "colab": {
          "base_uri": "https://localhost:8080/",
          "height": 283
        },
        "id": "N7q54eYjaMZR",
        "outputId": "d5956508-4b4f-4131-9b76-be625db358ec"
      },
      "source": [
        "sns.boxplot(data = df.loc[:,[\"Age\"]])"
      ],
      "execution_count": 47,
      "outputs": [
        {
          "output_type": "execute_result",
          "data": {
            "text/plain": [
              "<matplotlib.axes._subplots.AxesSubplot at 0x7f88296b8ba8>"
            ]
          },
          "metadata": {
            "tags": []
          },
          "execution_count": 47
        },
        {
          "output_type": "display_data",
          "data": {
            "image/png": "[encoded data removed]",
            "text/plain": [
              "<Figure size 432x288 with 1 Axes>"
            ]
          },
          "metadata": {
            "tags": [],
            "needs_background": "light"
          }
        }
      ]
    },
    {
      "cell_type": "code",
      "metadata": {
        "colab": {
          "base_uri": "https://localhost:8080/",
          "height": 265
        },
        "id": "c5hQa9UsbUvQ",
        "outputId": "a6acbb00-5784-46af-c0e2-d405a09a9cee"
      },
      "source": [
        "sns.boxplot(data = df.loc[:,[\"Pclass\", \"Parch\", \"SibSp\"]])\r\n",
        "plt.show()"
      ],
      "execution_count": 48,
      "outputs": [
        {
          "output_type": "display_data",
          "data": {
            "image/png": "[encoded data removed]",
            "text/plain": [
              "<Figure size 432x288 with 1 Axes>"
            ]
          },
          "metadata": {
            "tags": [],
            "needs_background": "light"
          }
        }
      ]
    },
    {
      "cell_type": "markdown",
      "metadata": {
        "id": "mLBF5c6vcE4C"
      },
      "source": [
        "\r\n"
      ]
    },
    {
      "cell_type": "code",
      "metadata": {
        "colab": {
          "base_uri": "https://localhost:8080/",
          "height": 937
        },
        "id": "e-VQO4zrb80t",
        "outputId": "3ebdd5f5-d675-41e1-e1b7-79d9d93dafba"
      },
      "source": [
        "sns.boxplot( x = df.Survived, y = df.Pclass )\r\n",
        "g = sns.FacetGrid(df , row= \"Pclass\")\r\n",
        "g = g.map(plt.hist, \"Survived\")\r\n",
        "plt.show"
      ],
      "execution_count": 49,
      "outputs": [
        {
          "output_type": "execute_result",
          "data": {
            "text/plain": [
              "<function matplotlib.pyplot.show>"
            ]
          },
          "metadata": {
            "tags": []
          },
          "execution_count": 49
        },
        {
          "output_type": "display_data",
          "data": {
            "image/png": "[encoded data removed]",
            "text/plain": [
              "<Figure size 432x288 with 1 Axes>"
            ]
          },
          "metadata": {
            "tags": [],
            "needs_background": "light"
          }
        },
        {
          "output_type": "display_data",
          "data": {
            "image/png": "[encoded data removed]",
            "text/plain": [
              "<Figure size 216x648 with 3 Axes>"
            ]
          },
          "metadata": {
            "tags": [],
            "needs_background": "light"
          }
        }
      ]
    },
    {
      "cell_type": "code",
      "metadata": {
        "colab": {
          "base_uri": "https://localhost:8080/",
          "height": 721
        },
        "id": "qvWiZhWocyFa",
        "outputId": "6f1ce9f8-457d-48b4-ff66-452dd05ef3d6"
      },
      "source": [
        "sns.boxplot( x = df.Fare, y = df.Survived )\r\n",
        "g = sns.FacetGrid(df , row= \"Survived\")\r\n",
        "g = g.map(plt.hist, \"Fare\")\r\n",
        "plt.show"
      ],
      "execution_count": 50,
      "outputs": [
        {
          "output_type": "execute_result",
          "data": {
            "text/plain": [
              "<function matplotlib.pyplot.show>"
            ]
          },
          "metadata": {
            "tags": []
          },
          "execution_count": 50
        },
        {
          "output_type": "display_data",
          "data": {
            "image/png": "[encoded data removed]",
            "text/plain": [
              "<Figure size 432x288 with 1 Axes>"
            ]
          },
          "metadata": {
            "tags": [],
            "needs_background": "light"
          }
        },
        {
          "output_type": "display_data",
          "data": {
            "image/png": "[encoded data removed]",
            "text/plain": [
              "<Figure size 216x432 with 2 Axes>"
            ]
          },
          "metadata": {
            "tags": [],
            "needs_background": "light"
          }
        }
      ]
    },
    {
      "cell_type": "code",
      "metadata": {
        "id": "29LiOrMpdl6F"
      },
      "source": [
        "from sklearn.model_selection import train_test_split\r\n",
        "import tensorflow as tf\r\n",
        "from IPython.display import clear_output\r\n"
      ],
      "execution_count": 134,
      "outputs": []
    },
    {
      "cell_type": "code",
      "metadata": {
        "colab": {
          "base_uri": "https://localhost:8080/",
          "height": 202
        },
        "id": "aVrZ2z19eLKe",
        "outputId": "32deeab4-bf2e-4a36-b67f-382135c1e77c"
      },
      "source": [
        "df.head()"
      ],
      "execution_count": 52,
      "outputs": [
        {
          "output_type": "execute_result",
          "data": {
            "text/html": [
              "<div>\n",
              "<style scoped>\n",
              "    .dataframe tbody tr th:only-of-type {\n",
              "        vertical-align: middle;\n",
              "    }\n",
              "\n",
              "    .dataframe tbody tr th {\n",
              "        vertical-align: top;\n",
              "    }\n",
              "\n",
              "    .dataframe thead th {\n",
              "        text-align: right;\n",
              "    }\n",
              "</style>\n",
              "<table border=\"1\" class=\"dataframe\">\n",
              "  <thead>\n",
              "    <tr style=\"text-align: right;\">\n",
              "      <th></th>\n",
              "      <th>PassengerId</th>\n",
              "      <th>Survived</th>\n",
              "      <th>Pclass</th>\n",
              "      <th>Name</th>\n",
              "      <th>Sex</th>\n",
              "      <th>Age</th>\n",
              "      <th>SibSp</th>\n",
              "      <th>Parch</th>\n",
              "      <th>Ticket</th>\n",
              "      <th>Fare</th>\n",
              "      <th>Cabin</th>\n",
              "      <th>Embarked</th>\n",
              "    </tr>\n",
              "  </thead>\n",
              "  <tbody>\n",
              "    <tr>\n",
              "      <th>0</th>\n",
              "      <td>1</td>\n",
              "      <td>0</td>\n",
              "      <td>3</td>\n",
              "      <td>Braund, Mr. Owen Harris</td>\n",
              "      <td>male</td>\n",
              "      <td>22.0</td>\n",
              "      <td>1</td>\n",
              "      <td>0</td>\n",
              "      <td>A/5 21171</td>\n",
              "      <td>7.2500</td>\n",
              "      <td>NaN</td>\n",
              "      <td>S</td>\n",
              "    </tr>\n",
              "    <tr>\n",
              "      <th>1</th>\n",
              "      <td>2</td>\n",
              "      <td>1</td>\n",
              "      <td>1</td>\n",
              "      <td>Cumings, Mrs. John Bradley (Florence Briggs Th...</td>\n",
              "      <td>female</td>\n",
              "      <td>38.0</td>\n",
              "      <td>1</td>\n",
              "      <td>0</td>\n",
              "      <td>PC 17599</td>\n",
              "      <td>71.2833</td>\n",
              "      <td>C85</td>\n",
              "      <td>C</td>\n",
              "    </tr>\n",
              "    <tr>\n",
              "      <th>2</th>\n",
              "      <td>3</td>\n",
              "      <td>1</td>\n",
              "      <td>3</td>\n",
              "      <td>Heikkinen, Miss. Laina</td>\n",
              "      <td>female</td>\n",
              "      <td>26.0</td>\n",
              "      <td>0</td>\n",
              "      <td>0</td>\n",
              "      <td>STON/O2. 3101282</td>\n",
              "      <td>7.9250</td>\n",
              "      <td>NaN</td>\n",
              "      <td>S</td>\n",
              "    </tr>\n",
              "    <tr>\n",
              "      <th>3</th>\n",
              "      <td>4</td>\n",
              "      <td>1</td>\n",
              "      <td>1</td>\n",
              "      <td>Futrelle, Mrs. Jacques Heath (Lily May Peel)</td>\n",
              "      <td>female</td>\n",
              "      <td>35.0</td>\n",
              "      <td>1</td>\n",
              "      <td>0</td>\n",
              "      <td>113803</td>\n",
              "      <td>53.1000</td>\n",
              "      <td>C123</td>\n",
              "      <td>S</td>\n",
              "    </tr>\n",
              "    <tr>\n",
              "      <th>4</th>\n",
              "      <td>5</td>\n",
              "      <td>0</td>\n",
              "      <td>3</td>\n",
              "      <td>Allen, Mr. William Henry</td>\n",
              "      <td>male</td>\n",
              "      <td>35.0</td>\n",
              "      <td>0</td>\n",
              "      <td>0</td>\n",
              "      <td>373450</td>\n",
              "      <td>8.0500</td>\n",
              "      <td>NaN</td>\n",
              "      <td>S</td>\n",
              "    </tr>\n",
              "  </tbody>\n",
              "</table>\n",
              "</div>"
            ],
            "text/plain": [
              "   PassengerId  Survived  Pclass  ...     Fare Cabin  Embarked\n",
              "0            1         0       3  ...   7.2500   NaN         S\n",
              "1            2         1       1  ...  71.2833   C85         C\n",
              "2            3         1       3  ...   7.9250   NaN         S\n",
              "3            4         1       1  ...  53.1000  C123         S\n",
              "4            5         0       3  ...   8.0500   NaN         S\n",
              "\n",
              "[5 rows x 12 columns]"
            ]
          },
          "metadata": {
            "tags": []
          },
          "execution_count": 52
        }
      ]
    },
    {
      "cell_type": "code",
      "metadata": {
        "colab": {
          "base_uri": "https://localhost:8080/",
          "height": 202
        },
        "id": "OxrmlX9weaH3",
        "outputId": "29a0ee3d-08bc-4e7f-e8ff-71d5fc4298c7"
      },
      "source": [
        "dataset = df\r\n",
        "temp = df\r\n",
        "dataset.head()"
      ],
      "execution_count": 100,
      "outputs": [
        {
          "output_type": "execute_result",
          "data": {
            "text/html": [
              "<div>\n",
              "<style scoped>\n",
              "    .dataframe tbody tr th:only-of-type {\n",
              "        vertical-align: middle;\n",
              "    }\n",
              "\n",
              "    .dataframe tbody tr th {\n",
              "        vertical-align: top;\n",
              "    }\n",
              "\n",
              "    .dataframe thead th {\n",
              "        text-align: right;\n",
              "    }\n",
              "</style>\n",
              "<table border=\"1\" class=\"dataframe\">\n",
              "  <thead>\n",
              "    <tr style=\"text-align: right;\">\n",
              "      <th></th>\n",
              "      <th>PassengerId</th>\n",
              "      <th>Survived</th>\n",
              "      <th>Pclass</th>\n",
              "      <th>Name</th>\n",
              "      <th>Sex</th>\n",
              "      <th>Age</th>\n",
              "      <th>SibSp</th>\n",
              "      <th>Parch</th>\n",
              "      <th>Ticket</th>\n",
              "      <th>Fare</th>\n",
              "      <th>Cabin</th>\n",
              "      <th>Embarked</th>\n",
              "    </tr>\n",
              "  </thead>\n",
              "  <tbody>\n",
              "    <tr>\n",
              "      <th>0</th>\n",
              "      <td>1</td>\n",
              "      <td>0</td>\n",
              "      <td>3</td>\n",
              "      <td>Braund, Mr. Owen Harris</td>\n",
              "      <td>male</td>\n",
              "      <td>22.0</td>\n",
              "      <td>1</td>\n",
              "      <td>0</td>\n",
              "      <td>A/5 21171</td>\n",
              "      <td>7.2500</td>\n",
              "      <td>NaN</td>\n",
              "      <td>S</td>\n",
              "    </tr>\n",
              "    <tr>\n",
              "      <th>1</th>\n",
              "      <td>2</td>\n",
              "      <td>1</td>\n",
              "      <td>1</td>\n",
              "      <td>Cumings, Mrs. John Bradley (Florence Briggs Th...</td>\n",
              "      <td>female</td>\n",
              "      <td>38.0</td>\n",
              "      <td>1</td>\n",
              "      <td>0</td>\n",
              "      <td>PC 17599</td>\n",
              "      <td>71.2833</td>\n",
              "      <td>C85</td>\n",
              "      <td>C</td>\n",
              "    </tr>\n",
              "    <tr>\n",
              "      <th>2</th>\n",
              "      <td>3</td>\n",
              "      <td>1</td>\n",
              "      <td>3</td>\n",
              "      <td>Heikkinen, Miss. Laina</td>\n",
              "      <td>female</td>\n",
              "      <td>26.0</td>\n",
              "      <td>0</td>\n",
              "      <td>0</td>\n",
              "      <td>STON/O2. 3101282</td>\n",
              "      <td>7.9250</td>\n",
              "      <td>NaN</td>\n",
              "      <td>S</td>\n",
              "    </tr>\n",
              "    <tr>\n",
              "      <th>3</th>\n",
              "      <td>4</td>\n",
              "      <td>1</td>\n",
              "      <td>1</td>\n",
              "      <td>Futrelle, Mrs. Jacques Heath (Lily May Peel)</td>\n",
              "      <td>female</td>\n",
              "      <td>35.0</td>\n",
              "      <td>1</td>\n",
              "      <td>0</td>\n",
              "      <td>113803</td>\n",
              "      <td>53.1000</td>\n",
              "      <td>C123</td>\n",
              "      <td>S</td>\n",
              "    </tr>\n",
              "    <tr>\n",
              "      <th>4</th>\n",
              "      <td>5</td>\n",
              "      <td>0</td>\n",
              "      <td>3</td>\n",
              "      <td>Allen, Mr. William Henry</td>\n",
              "      <td>male</td>\n",
              "      <td>35.0</td>\n",
              "      <td>0</td>\n",
              "      <td>0</td>\n",
              "      <td>373450</td>\n",
              "      <td>8.0500</td>\n",
              "      <td>NaN</td>\n",
              "      <td>S</td>\n",
              "    </tr>\n",
              "  </tbody>\n",
              "</table>\n",
              "</div>"
            ],
            "text/plain": [
              "   PassengerId  Survived  Pclass  ...     Fare Cabin  Embarked\n",
              "0            1         0       3  ...   7.2500   NaN         S\n",
              "1            2         1       1  ...  71.2833   C85         C\n",
              "2            3         1       3  ...   7.9250   NaN         S\n",
              "3            4         1       1  ...  53.1000  C123         S\n",
              "4            5         0       3  ...   8.0500   NaN         S\n",
              "\n",
              "[5 rows x 12 columns]"
            ]
          },
          "metadata": {
            "tags": []
          },
          "execution_count": 100
        }
      ]
    },
    {
      "cell_type": "code",
      "metadata": {
        "colab": {
          "base_uri": "https://localhost:8080/",
          "height": 202
        },
        "id": "u3W9pTrskKhO",
        "outputId": "06d1c350-d809-4d5f-f260-80d6550674ad"
      },
      "source": [
        "dataset = dataset[dataset[\"Age\"].notnull() & dataset[\"Cabin\"].notnull() & dataset[\"Embarked\"].notnull()]\r\n",
        "dataset.head()"
      ],
      "execution_count": 114,
      "outputs": [
        {
          "output_type": "execute_result",
          "data": {
            "text/html": [
              "<div>\n",
              "<style scoped>\n",
              "    .dataframe tbody tr th:only-of-type {\n",
              "        vertical-align: middle;\n",
              "    }\n",
              "\n",
              "    .dataframe tbody tr th {\n",
              "        vertical-align: top;\n",
              "    }\n",
              "\n",
              "    .dataframe thead th {\n",
              "        text-align: right;\n",
              "    }\n",
              "</style>\n",
              "<table border=\"1\" class=\"dataframe\">\n",
              "  <thead>\n",
              "    <tr style=\"text-align: right;\">\n",
              "      <th></th>\n",
              "      <th>Survived</th>\n",
              "      <th>Pclass</th>\n",
              "      <th>Sex</th>\n",
              "      <th>Age</th>\n",
              "      <th>SibSp</th>\n",
              "      <th>Parch</th>\n",
              "      <th>Fare</th>\n",
              "      <th>Cabin</th>\n",
              "      <th>Embarked</th>\n",
              "    </tr>\n",
              "  </thead>\n",
              "  <tbody>\n",
              "    <tr>\n",
              "      <th>1</th>\n",
              "      <td>1</td>\n",
              "      <td>1</td>\n",
              "      <td>female</td>\n",
              "      <td>38.0</td>\n",
              "      <td>1</td>\n",
              "      <td>0</td>\n",
              "      <td>71.2833</td>\n",
              "      <td>C85</td>\n",
              "      <td>C</td>\n",
              "    </tr>\n",
              "    <tr>\n",
              "      <th>3</th>\n",
              "      <td>1</td>\n",
              "      <td>1</td>\n",
              "      <td>female</td>\n",
              "      <td>35.0</td>\n",
              "      <td>1</td>\n",
              "      <td>0</td>\n",
              "      <td>53.1000</td>\n",
              "      <td>C123</td>\n",
              "      <td>S</td>\n",
              "    </tr>\n",
              "    <tr>\n",
              "      <th>6</th>\n",
              "      <td>0</td>\n",
              "      <td>1</td>\n",
              "      <td>male</td>\n",
              "      <td>54.0</td>\n",
              "      <td>0</td>\n",
              "      <td>0</td>\n",
              "      <td>51.8625</td>\n",
              "      <td>E46</td>\n",
              "      <td>S</td>\n",
              "    </tr>\n",
              "    <tr>\n",
              "      <th>10</th>\n",
              "      <td>1</td>\n",
              "      <td>3</td>\n",
              "      <td>female</td>\n",
              "      <td>4.0</td>\n",
              "      <td>1</td>\n",
              "      <td>1</td>\n",
              "      <td>16.7000</td>\n",
              "      <td>G6</td>\n",
              "      <td>S</td>\n",
              "    </tr>\n",
              "    <tr>\n",
              "      <th>11</th>\n",
              "      <td>1</td>\n",
              "      <td>1</td>\n",
              "      <td>female</td>\n",
              "      <td>58.0</td>\n",
              "      <td>0</td>\n",
              "      <td>0</td>\n",
              "      <td>26.5500</td>\n",
              "      <td>C103</td>\n",
              "      <td>S</td>\n",
              "    </tr>\n",
              "  </tbody>\n",
              "</table>\n",
              "</div>"
            ],
            "text/plain": [
              "    Survived  Pclass     Sex   Age  SibSp  Parch     Fare Cabin Embarked\n",
              "1          1       1  female  38.0      1      0  71.2833   C85        C\n",
              "3          1       1  female  35.0      1      0  53.1000  C123        S\n",
              "6          0       1    male  54.0      0      0  51.8625   E46        S\n",
              "10         1       3  female   4.0      1      1  16.7000    G6        S\n",
              "11         1       1  female  58.0      0      0  26.5500  C103        S"
            ]
          },
          "metadata": {
            "tags": []
          },
          "execution_count": 114
        }
      ]
    },
    {
      "cell_type": "code",
      "metadata": {
        "colab": {
          "base_uri": "https://localhost:8080/",
          "height": 202
        },
        "id": "8njGLWXgem-u",
        "outputId": "839f58cb-a299-4d15-fcbb-32c27d326dd2"
      },
      "source": [
        "#dataset = dataset.drop(['Name','Ticket','PassengerId'], axis=1)\r\n",
        "dataset.head()"
      ],
      "execution_count": 122,
      "outputs": [
        {
          "output_type": "execute_result",
          "data": {
            "text/html": [
              "<div>\n",
              "<style scoped>\n",
              "    .dataframe tbody tr th:only-of-type {\n",
              "        vertical-align: middle;\n",
              "    }\n",
              "\n",
              "    .dataframe tbody tr th {\n",
              "        vertical-align: top;\n",
              "    }\n",
              "\n",
              "    .dataframe thead th {\n",
              "        text-align: right;\n",
              "    }\n",
              "</style>\n",
              "<table border=\"1\" class=\"dataframe\">\n",
              "  <thead>\n",
              "    <tr style=\"text-align: right;\">\n",
              "      <th></th>\n",
              "      <th>Survived</th>\n",
              "      <th>Pclass</th>\n",
              "      <th>Sex</th>\n",
              "      <th>Age</th>\n",
              "      <th>SibSp</th>\n",
              "      <th>Parch</th>\n",
              "      <th>Fare</th>\n",
              "      <th>Cabin</th>\n",
              "      <th>Embarked</th>\n",
              "    </tr>\n",
              "  </thead>\n",
              "  <tbody>\n",
              "    <tr>\n",
              "      <th>1</th>\n",
              "      <td>1</td>\n",
              "      <td>1</td>\n",
              "      <td>female</td>\n",
              "      <td>38.0</td>\n",
              "      <td>1</td>\n",
              "      <td>0</td>\n",
              "      <td>71.2833</td>\n",
              "      <td>C85</td>\n",
              "      <td>C</td>\n",
              "    </tr>\n",
              "    <tr>\n",
              "      <th>3</th>\n",
              "      <td>1</td>\n",
              "      <td>1</td>\n",
              "      <td>female</td>\n",
              "      <td>35.0</td>\n",
              "      <td>1</td>\n",
              "      <td>0</td>\n",
              "      <td>53.1000</td>\n",
              "      <td>C123</td>\n",
              "      <td>S</td>\n",
              "    </tr>\n",
              "    <tr>\n",
              "      <th>6</th>\n",
              "      <td>0</td>\n",
              "      <td>1</td>\n",
              "      <td>male</td>\n",
              "      <td>54.0</td>\n",
              "      <td>0</td>\n",
              "      <td>0</td>\n",
              "      <td>51.8625</td>\n",
              "      <td>E46</td>\n",
              "      <td>S</td>\n",
              "    </tr>\n",
              "    <tr>\n",
              "      <th>10</th>\n",
              "      <td>1</td>\n",
              "      <td>3</td>\n",
              "      <td>female</td>\n",
              "      <td>4.0</td>\n",
              "      <td>1</td>\n",
              "      <td>1</td>\n",
              "      <td>16.7000</td>\n",
              "      <td>G6</td>\n",
              "      <td>S</td>\n",
              "    </tr>\n",
              "    <tr>\n",
              "      <th>11</th>\n",
              "      <td>1</td>\n",
              "      <td>1</td>\n",
              "      <td>female</td>\n",
              "      <td>58.0</td>\n",
              "      <td>0</td>\n",
              "      <td>0</td>\n",
              "      <td>26.5500</td>\n",
              "      <td>C103</td>\n",
              "      <td>S</td>\n",
              "    </tr>\n",
              "  </tbody>\n",
              "</table>\n",
              "</div>"
            ],
            "text/plain": [
              "    Survived  Pclass     Sex   Age  SibSp  Parch     Fare Cabin Embarked\n",
              "1          1       1  female  38.0      1      0  71.2833   C85        C\n",
              "3          1       1  female  35.0      1      0  53.1000  C123        S\n",
              "6          0       1    male  54.0      0      0  51.8625   E46        S\n",
              "10         1       3  female   4.0      1      1  16.7000    G6        S\n",
              "11         1       1  female  58.0      0      0  26.5500  C103        S"
            ]
          },
          "metadata": {
            "tags": []
          },
          "execution_count": 122
        }
      ]
    },
    {
      "cell_type": "code",
      "metadata": {
        "id": "Nky72SGUfQZ2"
      },
      "source": [
        "y = dataset.Survived\r\n",
        "x = dataset.drop(\"Survived\", axis = 1)"
      ],
      "execution_count": 123,
      "outputs": []
    },
    {
      "cell_type": "code",
      "metadata": {
        "colab": {
          "base_uri": "https://localhost:8080/",
          "height": 415
        },
        "id": "lE6CJbDfgh-K",
        "outputId": "689289fa-1a28-452e-c155-eefa4dde5194"
      },
      "source": [
        "x"
      ],
      "execution_count": 124,
      "outputs": [
        {
          "output_type": "execute_result",
          "data": {
            "text/html": [
              "<div>\n",
              "<style scoped>\n",
              "    .dataframe tbody tr th:only-of-type {\n",
              "        vertical-align: middle;\n",
              "    }\n",
              "\n",
              "    .dataframe tbody tr th {\n",
              "        vertical-align: top;\n",
              "    }\n",
              "\n",
              "    .dataframe thead th {\n",
              "        text-align: right;\n",
              "    }\n",
              "</style>\n",
              "<table border=\"1\" class=\"dataframe\">\n",
              "  <thead>\n",
              "    <tr style=\"text-align: right;\">\n",
              "      <th></th>\n",
              "      <th>Pclass</th>\n",
              "      <th>Sex</th>\n",
              "      <th>Age</th>\n",
              "      <th>SibSp</th>\n",
              "      <th>Parch</th>\n",
              "      <th>Fare</th>\n",
              "      <th>Cabin</th>\n",
              "      <th>Embarked</th>\n",
              "    </tr>\n",
              "  </thead>\n",
              "  <tbody>\n",
              "    <tr>\n",
              "      <th>1</th>\n",
              "      <td>1</td>\n",
              "      <td>female</td>\n",
              "      <td>38.0</td>\n",
              "      <td>1</td>\n",
              "      <td>0</td>\n",
              "      <td>71.2833</td>\n",
              "      <td>C85</td>\n",
              "      <td>C</td>\n",
              "    </tr>\n",
              "    <tr>\n",
              "      <th>3</th>\n",
              "      <td>1</td>\n",
              "      <td>female</td>\n",
              "      <td>35.0</td>\n",
              "      <td>1</td>\n",
              "      <td>0</td>\n",
              "      <td>53.1000</td>\n",
              "      <td>C123</td>\n",
              "      <td>S</td>\n",
              "    </tr>\n",
              "    <tr>\n",
              "      <th>6</th>\n",
              "      <td>1</td>\n",
              "      <td>male</td>\n",
              "      <td>54.0</td>\n",
              "      <td>0</td>\n",
              "      <td>0</td>\n",
              "      <td>51.8625</td>\n",
              "      <td>E46</td>\n",
              "      <td>S</td>\n",
              "    </tr>\n",
              "    <tr>\n",
              "      <th>10</th>\n",
              "      <td>3</td>\n",
              "      <td>female</td>\n",
              "      <td>4.0</td>\n",
              "      <td>1</td>\n",
              "      <td>1</td>\n",
              "      <td>16.7000</td>\n",
              "      <td>G6</td>\n",
              "      <td>S</td>\n",
              "    </tr>\n",
              "    <tr>\n",
              "      <th>11</th>\n",
              "      <td>1</td>\n",
              "      <td>female</td>\n",
              "      <td>58.0</td>\n",
              "      <td>0</td>\n",
              "      <td>0</td>\n",
              "      <td>26.5500</td>\n",
              "      <td>C103</td>\n",
              "      <td>S</td>\n",
              "    </tr>\n",
              "    <tr>\n",
              "      <th>...</th>\n",
              "      <td>...</td>\n",
              "      <td>...</td>\n",
              "      <td>...</td>\n",
              "      <td>...</td>\n",
              "      <td>...</td>\n",
              "      <td>...</td>\n",
              "      <td>...</td>\n",
              "      <td>...</td>\n",
              "    </tr>\n",
              "    <tr>\n",
              "      <th>871</th>\n",
              "      <td>1</td>\n",
              "      <td>female</td>\n",
              "      <td>47.0</td>\n",
              "      <td>1</td>\n",
              "      <td>1</td>\n",
              "      <td>52.5542</td>\n",
              "      <td>D35</td>\n",
              "      <td>S</td>\n",
              "    </tr>\n",
              "    <tr>\n",
              "      <th>872</th>\n",
              "      <td>1</td>\n",
              "      <td>male</td>\n",
              "      <td>33.0</td>\n",
              "      <td>0</td>\n",
              "      <td>0</td>\n",
              "      <td>5.0000</td>\n",
              "      <td>B51 B53 B55</td>\n",
              "      <td>S</td>\n",
              "    </tr>\n",
              "    <tr>\n",
              "      <th>879</th>\n",
              "      <td>1</td>\n",
              "      <td>female</td>\n",
              "      <td>56.0</td>\n",
              "      <td>0</td>\n",
              "      <td>1</td>\n",
              "      <td>83.1583</td>\n",
              "      <td>C50</td>\n",
              "      <td>C</td>\n",
              "    </tr>\n",
              "    <tr>\n",
              "      <th>887</th>\n",
              "      <td>1</td>\n",
              "      <td>female</td>\n",
              "      <td>19.0</td>\n",
              "      <td>0</td>\n",
              "      <td>0</td>\n",
              "      <td>30.0000</td>\n",
              "      <td>B42</td>\n",
              "      <td>S</td>\n",
              "    </tr>\n",
              "    <tr>\n",
              "      <th>889</th>\n",
              "      <td>1</td>\n",
              "      <td>male</td>\n",
              "      <td>26.0</td>\n",
              "      <td>0</td>\n",
              "      <td>0</td>\n",
              "      <td>30.0000</td>\n",
              "      <td>C148</td>\n",
              "      <td>C</td>\n",
              "    </tr>\n",
              "  </tbody>\n",
              "</table>\n",
              "<p>183 rows × 8 columns</p>\n",
              "</div>"
            ],
            "text/plain": [
              "     Pclass     Sex   Age  SibSp  Parch     Fare        Cabin Embarked\n",
              "1         1  female  38.0      1      0  71.2833          C85        C\n",
              "3         1  female  35.0      1      0  53.1000         C123        S\n",
              "6         1    male  54.0      0      0  51.8625          E46        S\n",
              "10        3  female   4.0      1      1  16.7000           G6        S\n",
              "11        1  female  58.0      0      0  26.5500         C103        S\n",
              "..      ...     ...   ...    ...    ...      ...          ...      ...\n",
              "871       1  female  47.0      1      1  52.5542          D35        S\n",
              "872       1    male  33.0      0      0   5.0000  B51 B53 B55        S\n",
              "879       1  female  56.0      0      1  83.1583          C50        C\n",
              "887       1  female  19.0      0      0  30.0000          B42        S\n",
              "889       1    male  26.0      0      0  30.0000         C148        C\n",
              "\n",
              "[183 rows x 8 columns]"
            ]
          },
          "metadata": {
            "tags": []
          },
          "execution_count": 124
        }
      ]
    },
    {
      "cell_type": "markdown",
      "metadata": {
        "id": "DJoVqhEugg3S"
      },
      "source": [
        ""
      ]
    },
    {
      "cell_type": "code",
      "metadata": {
        "colab": {
          "base_uri": "https://localhost:8080/",
          "height": 202
        },
        "id": "kYa4EKBhfYNp",
        "outputId": "df4d2292-55e6-4beb-e69d-40d703da128a"
      },
      "source": [
        "x_train,x_test,y_train,y_test=train_test_split(x,y,test_size=0.2)\r\n",
        "x_train.head()"
      ],
      "execution_count": 125,
      "outputs": [
        {
          "output_type": "execute_result",
          "data": {
            "text/html": [
              "<div>\n",
              "<style scoped>\n",
              "    .dataframe tbody tr th:only-of-type {\n",
              "        vertical-align: middle;\n",
              "    }\n",
              "\n",
              "    .dataframe tbody tr th {\n",
              "        vertical-align: top;\n",
              "    }\n",
              "\n",
              "    .dataframe thead th {\n",
              "        text-align: right;\n",
              "    }\n",
              "</style>\n",
              "<table border=\"1\" class=\"dataframe\">\n",
              "  <thead>\n",
              "    <tr style=\"text-align: right;\">\n",
              "      <th></th>\n",
              "      <th>Pclass</th>\n",
              "      <th>Sex</th>\n",
              "      <th>Age</th>\n",
              "      <th>SibSp</th>\n",
              "      <th>Parch</th>\n",
              "      <th>Fare</th>\n",
              "      <th>Cabin</th>\n",
              "      <th>Embarked</th>\n",
              "    </tr>\n",
              "  </thead>\n",
              "  <tbody>\n",
              "    <tr>\n",
              "      <th>262</th>\n",
              "      <td>1</td>\n",
              "      <td>male</td>\n",
              "      <td>52.0</td>\n",
              "      <td>1</td>\n",
              "      <td>1</td>\n",
              "      <td>79.65</td>\n",
              "      <td>E67</td>\n",
              "      <td>S</td>\n",
              "    </tr>\n",
              "    <tr>\n",
              "      <th>252</th>\n",
              "      <td>1</td>\n",
              "      <td>male</td>\n",
              "      <td>62.0</td>\n",
              "      <td>0</td>\n",
              "      <td>0</td>\n",
              "      <td>26.55</td>\n",
              "      <td>C87</td>\n",
              "      <td>S</td>\n",
              "    </tr>\n",
              "    <tr>\n",
              "      <th>245</th>\n",
              "      <td>1</td>\n",
              "      <td>male</td>\n",
              "      <td>44.0</td>\n",
              "      <td>2</td>\n",
              "      <td>0</td>\n",
              "      <td>90.00</td>\n",
              "      <td>C78</td>\n",
              "      <td>Q</td>\n",
              "    </tr>\n",
              "    <tr>\n",
              "      <th>789</th>\n",
              "      <td>1</td>\n",
              "      <td>male</td>\n",
              "      <td>46.0</td>\n",
              "      <td>0</td>\n",
              "      <td>0</td>\n",
              "      <td>79.20</td>\n",
              "      <td>B82 B84</td>\n",
              "      <td>C</td>\n",
              "    </tr>\n",
              "    <tr>\n",
              "      <th>712</th>\n",
              "      <td>1</td>\n",
              "      <td>male</td>\n",
              "      <td>48.0</td>\n",
              "      <td>1</td>\n",
              "      <td>0</td>\n",
              "      <td>52.00</td>\n",
              "      <td>C126</td>\n",
              "      <td>S</td>\n",
              "    </tr>\n",
              "  </tbody>\n",
              "</table>\n",
              "</div>"
            ],
            "text/plain": [
              "     Pclass   Sex   Age  SibSp  Parch   Fare    Cabin Embarked\n",
              "262       1  male  52.0      1      1  79.65      E67        S\n",
              "252       1  male  62.0      0      0  26.55      C87        S\n",
              "245       1  male  44.0      2      0  90.00      C78        Q\n",
              "789       1  male  46.0      0      0  79.20  B82 B84        C\n",
              "712       1  male  48.0      1      0  52.00     C126        S"
            ]
          },
          "metadata": {
            "tags": []
          },
          "execution_count": 125
        }
      ]
    },
    {
      "cell_type": "code",
      "metadata": {
        "colab": {
          "base_uri": "https://localhost:8080/"
        },
        "id": "ZrVEgHLuf_4r",
        "outputId": "7b95911f-6c21-4c65-de9c-9ceb5af807d0"
      },
      "source": [
        "print(x_train.shape)\r\n",
        "print(y_train.shape)\r\n",
        "print(x_test.shape)\r\n",
        "print(y_test.shape)"
      ],
      "execution_count": 126,
      "outputs": [
        {
          "output_type": "stream",
          "text": [
            "(146, 8)\n",
            "(146,)\n",
            "(37, 8)\n",
            "(37,)\n"
          ],
          "name": "stdout"
        }
      ]
    },
    {
      "cell_type": "code",
      "metadata": {
        "id": "xg2V57UwgRff"
      },
      "source": [
        "CATEGORICAL_COLUMNS = [\"Sex\", \"SibSp\", \"Parch\", \"Pclass\", \"Cabin\", \"Embarked\"]\r\n",
        "NUMERICAL_COLUMNS = [\"Age\", \"Fare\"]"
      ],
      "execution_count": 127,
      "outputs": []
    },
    {
      "cell_type": "code",
      "metadata": {
        "colab": {
          "base_uri": "https://localhost:8080/"
        },
        "id": "2weriGgQhue-",
        "outputId": "fe41d467-0a54-4aac-912e-93fec90131ae"
      },
      "source": [
        "feature_columns= []\r\n",
        "for feature_name in CATEGORICAL_COLUMNS:\r\n",
        "  vocabulary = x_train[feature_name].unique()\r\n",
        "  feature_columns.append( tf.feature_column.categorical_column_with_vocabulary_list(feature_name, vocabulary))\r\n",
        "\r\n",
        "for feature_name in NUMERICAL_COLUMNS:\r\n",
        "  feature_columns.append(tf.feature_column.numeric_column(feature_name, dtype = float))\r\n",
        "\r\n",
        "print(feature_columns)"
      ],
      "execution_count": 128,
      "outputs": [
        {
          "output_type": "stream",
          "text": [
            "[VocabularyListCategoricalColumn(key='Sex', vocabulary_list=('male', 'female'), dtype=tf.string, default_value=-1, num_oov_buckets=0), VocabularyListCategoricalColumn(key='SibSp', vocabulary_list=(1, 0, 2, 3), dtype=tf.int64, default_value=-1, num_oov_buckets=0), VocabularyListCategoricalColumn(key='Parch', vocabulary_list=(1, 0, 2, 4), dtype=tf.int64, default_value=-1, num_oov_buckets=0), VocabularyListCategoricalColumn(key='Pclass', vocabulary_list=(1, 3, 2), dtype=tf.int64, default_value=-1, num_oov_buckets=0), VocabularyListCategoricalColumn(key='Cabin', vocabulary_list=('E67', 'C87', 'C78', 'B82 B84', 'C126', 'B50', 'C46', 'F G73', 'C148', 'B96 B98', 'E10', 'B18', 'D9', 'A31', 'D49', 'E38', 'C30', 'D10 D12', 'B51 B53 B55', 'B35', 'D', 'B20', 'C65', 'B19', 'C93', 'C54', 'G6', 'D33', 'F2', 'C101', 'A10', 'D36', 'E36', 'D11', 'C23 C25 C27', 'E24', 'E25', 'F4', 'A16', 'C70', 'A6', 'D7', 'E121', 'D26', 'A34', 'E33', 'C45', 'C92', 'A36', 'A26', 'D6', 'E40', 'C83', 'E77', 'B3', 'D35', 'B57 B59 B63 B66', 'B41', 'C125', 'B86', 'C22 C26', 'T', 'B49', 'C124', 'E12', 'B101', 'D48', 'B39', 'C2', 'E101', 'B80', 'D56', 'C32', 'B37', 'B22', 'E44', 'D28', 'E68', 'F33', 'D46', 'E63', 'E8', 'D47', 'B58 B60', 'B69', 'B77', 'D20', 'B73', 'D19', 'D17', 'E31', 'C52', 'C103', 'C99', 'D37', 'C62 C64', 'D50', 'D15', 'F G63', 'C68', 'C91', 'C49', 'B38', 'C110', 'E58', 'B5', 'C123', 'C90', 'C50', 'B94', 'C86'), dtype=tf.string, default_value=-1, num_oov_buckets=0), VocabularyListCategoricalColumn(key='Embarked', vocabulary_list=('S', 'Q', 'C'), dtype=tf.string, default_value=-1, num_oov_buckets=0), NumericColumn(key='Age', shape=(1,), default_value=None, dtype=<class 'float'>, normalizer_fn=None), NumericColumn(key='Fare', shape=(1,), default_value=None, dtype=<class 'float'>, normalizer_fn=None)]\n"
          ],
          "name": "stdout"
        }
      ]
    },
    {
      "cell_type": "code",
      "metadata": {
        "id": "a-o7EVjCjf0R"
      },
      "source": [
        "def make_input_fn(data_df, label_df, num_epochs=700, shuffle=True, batch_size=8):\r\n",
        "  def input_function():  # inner function, this will be returned\r\n",
        "    ds = tf.data.Dataset.from_tensor_slices((dict(data_df), label_df))  # create tf.data.Dataset object with data and its label\r\n",
        "    if shuffle:\r\n",
        "      ds = ds.shuffle(1000)  # randomize order of data\r\n",
        "    ds = ds.batch(batch_size).repeat(num_epochs)  # split dataset into batches of 32 and repeat process for number of epochs\r\n",
        "    return ds  # return a batch of the dataset\r\n",
        "  return input_function  # return a function object for use\r\n",
        "\r\n",
        "train_input_fn = make_input_fn(x_train, y_train)  # here we will call the input_function that was returned to us to get a dataset object we can feed to the model\r\n",
        "eval_input_fn = make_input_fn(x_test, y_test, num_epochs=1, shuffle=False)\r\n"
      ],
      "execution_count": 176,
      "outputs": []
    },
    {
      "cell_type": "code",
      "metadata": {
        "colab": {
          "base_uri": "https://localhost:8080/"
        },
        "id": "A6INEXRTj2VU",
        "outputId": "227ece50-f008-4bba-d2a0-60543886fc6c"
      },
      "source": [
        "linear_est = tf.estimator.LinearClassifier(feature_columns= feature_columns, optimizer=tf.keras.optimizers.Ftrl(\r\n",
        "      learning_rate=0.0025,\r\n",
        "      l2_regularization_strength=0.1\r\n",
        "    ))\r\n",
        "\r\n",
        "linear_est.train(train_input_fn)\r\n"
      ],
      "execution_count": 177,
      "outputs": [
        {
          "output_type": "stream",
          "text": [
            "INFO:tensorflow:Using default config.\n",
            "WARNING:tensorflow:Using temporary folder as model directory: /tmp/tmp0k7wa5vg\n",
            "INFO:tensorflow:Using config: {'_model_dir': '/tmp/tmp0k7wa5vg', '_tf_random_seed': None, '_save_summary_steps': 100, '_save_checkpoints_steps': None, '_save_checkpoints_secs': 600, '_session_config': allow_soft_placement: true\n",
            "graph_options {\n",
            "  rewrite_options {\n",
            "    meta_optimizer_iterations: ONE\n",
            "  }\n",
            "}\n",
            ", '_keep_checkpoint_max': 5, '_keep_checkpoint_every_n_hours': 10000, '_log_step_count_steps': 100, '_train_distribute': None, '_device_fn': None, '_protocol': None, '_eval_distribute': None, '_experimental_distribute': None, '_experimental_max_worker_delay_secs': None, '_session_creation_timeout_secs': 7200, '_checkpoint_save_graph_def': True, '_service': None, '_cluster_spec': ClusterSpec({}), '_task_type': 'worker', '_task_id': 0, '_global_id_in_cluster': 0, '_master': '', '_evaluation_master': '', '_is_chief': True, '_num_ps_replicas': 0, '_num_worker_replicas': 1}\n",
            "INFO:tensorflow:Calling model_fn.\n"
          ],
          "name": "stdout"
        },
        {
          "output_type": "stream",
          "text": [
            "/usr/local/lib/python3.6/dist-packages/tensorflow/python/keras/engine/base_layer_v1.py:1727: UserWarning: `layer.add_variable` is deprecated and will be removed in a future version. Please use `layer.add_weight` method instead.\n",
            "  warnings.warn('`layer.add_variable` is deprecated and '\n"
          ],
          "name": "stderr"
        },
        {
          "output_type": "stream",
          "text": [
            "INFO:tensorflow:Done calling model_fn.\n",
            "INFO:tensorflow:Create CheckpointSaverHook.\n",
            "INFO:tensorflow:Graph was finalized.\n",
            "INFO:tensorflow:Running local_init_op.\n",
            "INFO:tensorflow:Done running local_init_op.\n",
            "INFO:tensorflow:Calling checkpoint listeners before saving checkpoint 0...\n",
            "INFO:tensorflow:Saving checkpoints for 0 into /tmp/tmp0k7wa5vg/model.ckpt.\n",
            "INFO:tensorflow:Calling checkpoint listeners after saving checkpoint 0...\n",
            "INFO:tensorflow:loss = 0.6931472, step = 0\n",
            "INFO:tensorflow:global_step/sec: 349.167\n",
            "INFO:tensorflow:loss = 0.46738774, step = 100 (0.288 sec)\n",
            "INFO:tensorflow:global_step/sec: 872.948\n",
            "INFO:tensorflow:loss = 0.6295783, step = 200 (0.114 sec)\n",
            "INFO:tensorflow:global_step/sec: 860.402\n",
            "INFO:tensorflow:loss = 0.6838109, step = 300 (0.116 sec)\n",
            "INFO:tensorflow:global_step/sec: 800.342\n",
            "INFO:tensorflow:loss = 0.6597968, step = 400 (0.125 sec)\n",
            "INFO:tensorflow:global_step/sec: 846.498\n",
            "INFO:tensorflow:loss = 0.38490224, step = 500 (0.118 sec)\n",
            "INFO:tensorflow:global_step/sec: 860.935\n",
            "INFO:tensorflow:loss = 0.7907696, step = 600 (0.117 sec)\n",
            "INFO:tensorflow:global_step/sec: 784.723\n",
            "INFO:tensorflow:loss = 0.68242544, step = 700 (0.128 sec)\n",
            "INFO:tensorflow:global_step/sec: 854.691\n",
            "INFO:tensorflow:loss = 0.44673365, step = 800 (0.119 sec)\n",
            "INFO:tensorflow:global_step/sec: 836.353\n",
            "INFO:tensorflow:loss = 0.72439706, step = 900 (0.118 sec)\n",
            "INFO:tensorflow:global_step/sec: 878.26\n",
            "INFO:tensorflow:loss = 0.65653557, step = 1000 (0.112 sec)\n",
            "INFO:tensorflow:global_step/sec: 884.378\n",
            "INFO:tensorflow:loss = 0.97512686, step = 1100 (0.116 sec)\n",
            "INFO:tensorflow:global_step/sec: 818.757\n",
            "INFO:tensorflow:loss = 0.615661, step = 1200 (0.119 sec)\n",
            "INFO:tensorflow:global_step/sec: 879.822\n",
            "INFO:tensorflow:loss = 0.68595105, step = 1300 (0.114 sec)\n",
            "INFO:tensorflow:global_step/sec: 866.706\n",
            "INFO:tensorflow:loss = 0.79854685, step = 1400 (0.116 sec)\n",
            "INFO:tensorflow:global_step/sec: 893.135\n",
            "INFO:tensorflow:loss = 0.4918543, step = 1500 (0.111 sec)\n",
            "INFO:tensorflow:global_step/sec: 811.384\n",
            "INFO:tensorflow:loss = 0.527345, step = 1600 (0.127 sec)\n",
            "INFO:tensorflow:global_step/sec: 857.982\n",
            "INFO:tensorflow:loss = 0.50484896, step = 1700 (0.116 sec)\n",
            "INFO:tensorflow:global_step/sec: 839.341\n",
            "INFO:tensorflow:loss = 0.48062697, step = 1800 (0.116 sec)\n",
            "INFO:tensorflow:global_step/sec: 881.23\n",
            "INFO:tensorflow:loss = 0.41811556, step = 1900 (0.116 sec)\n",
            "INFO:tensorflow:global_step/sec: 788.974\n",
            "INFO:tensorflow:loss = 0.56295466, step = 2000 (0.125 sec)\n",
            "INFO:tensorflow:global_step/sec: 786.447\n",
            "INFO:tensorflow:loss = 0.51973516, step = 2100 (0.127 sec)\n",
            "INFO:tensorflow:global_step/sec: 846.313\n",
            "INFO:tensorflow:loss = 0.3795653, step = 2200 (0.120 sec)\n",
            "INFO:tensorflow:global_step/sec: 858.955\n",
            "INFO:tensorflow:loss = 0.56589484, step = 2300 (0.114 sec)\n",
            "INFO:tensorflow:global_step/sec: 808.815\n",
            "INFO:tensorflow:loss = 0.5418761, step = 2400 (0.127 sec)\n",
            "INFO:tensorflow:global_step/sec: 831.72\n",
            "INFO:tensorflow:loss = 0.52884734, step = 2500 (0.120 sec)\n",
            "INFO:tensorflow:global_step/sec: 818.831\n",
            "INFO:tensorflow:loss = 0.576491, step = 2600 (0.119 sec)\n",
            "INFO:tensorflow:global_step/sec: 821.522\n",
            "INFO:tensorflow:loss = 0.6184609, step = 2700 (0.122 sec)\n",
            "INFO:tensorflow:global_step/sec: 833.167\n",
            "INFO:tensorflow:loss = 0.60124373, step = 2800 (0.120 sec)\n",
            "INFO:tensorflow:global_step/sec: 823.258\n",
            "INFO:tensorflow:loss = 0.5305935, step = 2900 (0.121 sec)\n",
            "INFO:tensorflow:global_step/sec: 866.218\n",
            "INFO:tensorflow:loss = 0.6921439, step = 3000 (0.118 sec)\n",
            "INFO:tensorflow:global_step/sec: 856.045\n",
            "INFO:tensorflow:loss = 0.91256446, step = 3100 (0.114 sec)\n",
            "INFO:tensorflow:global_step/sec: 831.284\n",
            "INFO:tensorflow:loss = 0.47423333, step = 3200 (0.121 sec)\n",
            "INFO:tensorflow:global_step/sec: 808.604\n",
            "INFO:tensorflow:loss = 0.8757343, step = 3300 (0.126 sec)\n",
            "INFO:tensorflow:global_step/sec: 853.51\n",
            "INFO:tensorflow:loss = 0.6064832, step = 3400 (0.114 sec)\n",
            "INFO:tensorflow:global_step/sec: 844.191\n",
            "INFO:tensorflow:loss = 0.4724704, step = 3500 (0.119 sec)\n",
            "INFO:tensorflow:global_step/sec: 871.573\n",
            "INFO:tensorflow:loss = 0.49092597, step = 3600 (0.115 sec)\n",
            "INFO:tensorflow:global_step/sec: 901.702\n",
            "INFO:tensorflow:loss = 0.5619154, step = 3700 (0.110 sec)\n",
            "INFO:tensorflow:global_step/sec: 832.648\n",
            "INFO:tensorflow:loss = 0.597318, step = 3800 (0.120 sec)\n",
            "INFO:tensorflow:global_step/sec: 849.801\n",
            "INFO:tensorflow:loss = 0.4933759, step = 3900 (0.118 sec)\n",
            "INFO:tensorflow:global_step/sec: 852.716\n",
            "INFO:tensorflow:loss = 0.6790943, step = 4000 (0.120 sec)\n",
            "INFO:tensorflow:global_step/sec: 780.375\n",
            "INFO:tensorflow:loss = 0.7497692, step = 4100 (0.128 sec)\n",
            "INFO:tensorflow:global_step/sec: 849.596\n",
            "INFO:tensorflow:loss = 0.3776881, step = 4200 (0.114 sec)\n",
            "INFO:tensorflow:global_step/sec: 824.764\n",
            "INFO:tensorflow:loss = 0.5393089, step = 4300 (0.124 sec)\n",
            "INFO:tensorflow:global_step/sec: 849.524\n",
            "INFO:tensorflow:loss = 0.7321559, step = 4400 (0.115 sec)\n",
            "INFO:tensorflow:global_step/sec: 883.05\n",
            "INFO:tensorflow:loss = 0.49310872, step = 4500 (0.113 sec)\n",
            "INFO:tensorflow:global_step/sec: 862.587\n",
            "INFO:tensorflow:loss = 0.37554288, step = 4600 (0.117 sec)\n",
            "INFO:tensorflow:global_step/sec: 807.729\n",
            "INFO:tensorflow:loss = 0.6190943, step = 4700 (0.123 sec)\n",
            "INFO:tensorflow:global_step/sec: 859.381\n",
            "INFO:tensorflow:loss = 0.46865597, step = 4800 (0.116 sec)\n",
            "INFO:tensorflow:global_step/sec: 875.886\n",
            "INFO:tensorflow:loss = 0.49070895, step = 4900 (0.114 sec)\n",
            "INFO:tensorflow:global_step/sec: 784.463\n",
            "INFO:tensorflow:loss = 0.38782108, step = 5000 (0.130 sec)\n",
            "INFO:tensorflow:global_step/sec: 860.197\n",
            "INFO:tensorflow:loss = 0.40152162, step = 5100 (0.115 sec)\n",
            "INFO:tensorflow:global_step/sec: 845.37\n",
            "INFO:tensorflow:loss = 0.4976127, step = 5200 (0.117 sec)\n",
            "INFO:tensorflow:global_step/sec: 863.605\n",
            "INFO:tensorflow:loss = 0.533098, step = 5300 (0.116 sec)\n",
            "INFO:tensorflow:global_step/sec: 850.613\n",
            "INFO:tensorflow:loss = 0.73275024, step = 5400 (0.119 sec)\n",
            "INFO:tensorflow:global_step/sec: 802.566\n",
            "INFO:tensorflow:loss = 0.4475612, step = 5500 (0.123 sec)\n",
            "INFO:tensorflow:global_step/sec: 865.358\n",
            "INFO:tensorflow:loss = 0.52567685, step = 5600 (0.115 sec)\n",
            "INFO:tensorflow:global_step/sec: 853.976\n",
            "INFO:tensorflow:loss = 0.44827694, step = 5700 (0.118 sec)\n",
            "INFO:tensorflow:global_step/sec: 758.587\n",
            "INFO:tensorflow:loss = 0.54643786, step = 5800 (0.133 sec)\n",
            "INFO:tensorflow:global_step/sec: 857.812\n",
            "INFO:tensorflow:loss = 0.51031744, step = 5900 (0.115 sec)\n",
            "INFO:tensorflow:global_step/sec: 864.632\n",
            "INFO:tensorflow:loss = 0.54129153, step = 6000 (0.115 sec)\n",
            "INFO:tensorflow:global_step/sec: 836.894\n",
            "INFO:tensorflow:loss = 0.6713126, step = 6100 (0.120 sec)\n",
            "INFO:tensorflow:global_step/sec: 872.231\n",
            "INFO:tensorflow:loss = 0.5546466, step = 6200 (0.115 sec)\n",
            "INFO:tensorflow:global_step/sec: 849.887\n",
            "INFO:tensorflow:loss = 0.50250757, step = 6300 (0.118 sec)\n",
            "INFO:tensorflow:global_step/sec: 838.965\n",
            "INFO:tensorflow:loss = 0.491492, step = 6400 (0.119 sec)\n",
            "INFO:tensorflow:global_step/sec: 872.755\n",
            "INFO:tensorflow:loss = 0.5013331, step = 6500 (0.114 sec)\n",
            "INFO:tensorflow:global_step/sec: 865.153\n",
            "INFO:tensorflow:loss = 0.602581, step = 6600 (0.119 sec)\n",
            "INFO:tensorflow:global_step/sec: 817.823\n",
            "INFO:tensorflow:loss = 0.49132568, step = 6700 (0.122 sec)\n",
            "INFO:tensorflow:global_step/sec: 830.401\n",
            "INFO:tensorflow:loss = 0.75396985, step = 6800 (0.117 sec)\n",
            "INFO:tensorflow:global_step/sec: 839.758\n",
            "INFO:tensorflow:loss = 0.44232094, step = 6900 (0.122 sec)\n",
            "INFO:tensorflow:global_step/sec: 878.407\n",
            "INFO:tensorflow:loss = 0.5328691, step = 7000 (0.111 sec)\n",
            "INFO:tensorflow:global_step/sec: 839.141\n",
            "INFO:tensorflow:loss = 0.6718341, step = 7100 (0.123 sec)\n",
            "INFO:tensorflow:global_step/sec: 820.105\n",
            "INFO:tensorflow:loss = 0.4180931, step = 7200 (0.121 sec)\n",
            "INFO:tensorflow:global_step/sec: 862.195\n",
            "INFO:tensorflow:loss = 0.5556985, step = 7300 (0.116 sec)\n",
            "INFO:tensorflow:global_step/sec: 843.532\n",
            "INFO:tensorflow:loss = 0.61304903, step = 7400 (0.116 sec)\n",
            "INFO:tensorflow:global_step/sec: 852.726\n",
            "INFO:tensorflow:loss = 0.45557356, step = 7500 (0.117 sec)\n",
            "INFO:tensorflow:global_step/sec: 788.424\n",
            "INFO:tensorflow:loss = 0.718503, step = 7600 (0.127 sec)\n",
            "INFO:tensorflow:global_step/sec: 786.096\n",
            "INFO:tensorflow:loss = 0.55612814, step = 7700 (0.128 sec)\n",
            "INFO:tensorflow:global_step/sec: 816.665\n",
            "INFO:tensorflow:loss = 0.60496426, step = 7800 (0.123 sec)\n",
            "INFO:tensorflow:global_step/sec: 799.259\n",
            "INFO:tensorflow:loss = 0.5287413, step = 7900 (0.125 sec)\n",
            "INFO:tensorflow:global_step/sec: 822.534\n",
            "INFO:tensorflow:loss = 0.4101041, step = 8000 (0.121 sec)\n",
            "INFO:tensorflow:global_step/sec: 869.457\n",
            "INFO:tensorflow:loss = 0.55807656, step = 8100 (0.115 sec)\n",
            "INFO:tensorflow:global_step/sec: 902.381\n",
            "INFO:tensorflow:loss = 0.5540174, step = 8200 (0.111 sec)\n",
            "INFO:tensorflow:global_step/sec: 789.904\n",
            "INFO:tensorflow:loss = 0.50221854, step = 8300 (0.127 sec)\n",
            "INFO:tensorflow:global_step/sec: 827.48\n",
            "INFO:tensorflow:loss = 0.5067452, step = 8400 (0.124 sec)\n",
            "INFO:tensorflow:global_step/sec: 853.625\n",
            "INFO:tensorflow:loss = 0.632707, step = 8500 (0.114 sec)\n",
            "INFO:tensorflow:global_step/sec: 868.852\n",
            "INFO:tensorflow:loss = 0.62772954, step = 8600 (0.115 sec)\n",
            "INFO:tensorflow:global_step/sec: 892.637\n",
            "INFO:tensorflow:loss = 0.50355005, step = 8700 (0.112 sec)\n",
            "INFO:tensorflow:global_step/sec: 830.134\n",
            "INFO:tensorflow:loss = 0.5127443, step = 8800 (0.120 sec)\n",
            "INFO:tensorflow:global_step/sec: 873.933\n",
            "INFO:tensorflow:loss = 0.63955367, step = 8900 (0.114 sec)\n",
            "INFO:tensorflow:global_step/sec: 901.419\n",
            "INFO:tensorflow:loss = 0.37763825, step = 9000 (0.111 sec)\n",
            "INFO:tensorflow:global_step/sec: 856.844\n",
            "INFO:tensorflow:loss = 0.37466007, step = 9100 (0.118 sec)\n",
            "INFO:tensorflow:global_step/sec: 877.082\n",
            "INFO:tensorflow:loss = 0.730106, step = 9200 (0.114 sec)\n",
            "INFO:tensorflow:global_step/sec: 854.728\n",
            "INFO:tensorflow:loss = 0.73802435, step = 9300 (0.118 sec)\n",
            "INFO:tensorflow:global_step/sec: 848.239\n",
            "INFO:tensorflow:loss = 0.50796074, step = 9400 (0.118 sec)\n",
            "INFO:tensorflow:global_step/sec: 864.719\n",
            "INFO:tensorflow:loss = 0.6062795, step = 9500 (0.116 sec)\n",
            "INFO:tensorflow:global_step/sec: 858.788\n",
            "INFO:tensorflow:loss = 0.5615926, step = 9600 (0.113 sec)\n",
            "INFO:tensorflow:global_step/sec: 836.362\n",
            "INFO:tensorflow:loss = 0.5922735, step = 9700 (0.120 sec)\n",
            "INFO:tensorflow:global_step/sec: 848.874\n",
            "INFO:tensorflow:loss = 0.5250045, step = 9800 (0.118 sec)\n",
            "INFO:tensorflow:global_step/sec: 822.322\n",
            "INFO:tensorflow:loss = 0.4771557, step = 9900 (0.122 sec)\n",
            "INFO:tensorflow:global_step/sec: 862.603\n",
            "INFO:tensorflow:loss = 0.46101272, step = 10000 (0.116 sec)\n",
            "INFO:tensorflow:global_step/sec: 854.843\n",
            "INFO:tensorflow:loss = 0.46500474, step = 10100 (0.117 sec)\n",
            "INFO:tensorflow:global_step/sec: 871.785\n",
            "INFO:tensorflow:loss = 0.5019462, step = 10200 (0.115 sec)\n",
            "INFO:tensorflow:global_step/sec: 874.057\n",
            "INFO:tensorflow:loss = 0.3871855, step = 10300 (0.114 sec)\n",
            "INFO:tensorflow:global_step/sec: 826.343\n",
            "INFO:tensorflow:loss = 0.4454865, step = 10400 (0.121 sec)\n",
            "INFO:tensorflow:global_step/sec: 846.807\n",
            "INFO:tensorflow:loss = 0.69845617, step = 10500 (0.118 sec)\n",
            "INFO:tensorflow:global_step/sec: 814.208\n",
            "INFO:tensorflow:loss = 0.6529807, step = 10600 (0.124 sec)\n",
            "INFO:tensorflow:global_step/sec: 893.944\n",
            "INFO:tensorflow:loss = 0.55631053, step = 10700 (0.111 sec)\n",
            "INFO:tensorflow:global_step/sec: 850.587\n",
            "INFO:tensorflow:loss = 0.55084485, step = 10800 (0.119 sec)\n",
            "INFO:tensorflow:global_step/sec: 710.587\n",
            "INFO:tensorflow:loss = 0.46965587, step = 10900 (0.139 sec)\n",
            "INFO:tensorflow:global_step/sec: 837.349\n",
            "INFO:tensorflow:loss = 0.31251633, step = 11000 (0.120 sec)\n",
            "INFO:tensorflow:global_step/sec: 873.693\n",
            "INFO:tensorflow:loss = 0.63187313, step = 11100 (0.114 sec)\n",
            "INFO:tensorflow:global_step/sec: 869.255\n",
            "INFO:tensorflow:loss = 0.49800742, step = 11200 (0.119 sec)\n",
            "INFO:tensorflow:global_step/sec: 848.8\n",
            "INFO:tensorflow:loss = 0.4911995, step = 11300 (0.114 sec)\n",
            "INFO:tensorflow:global_step/sec: 887.047\n",
            "INFO:tensorflow:loss = 0.4147488, step = 11400 (0.113 sec)\n",
            "INFO:tensorflow:global_step/sec: 803.924\n",
            "INFO:tensorflow:loss = 0.32545844, step = 11500 (0.126 sec)\n",
            "INFO:tensorflow:global_step/sec: 876.461\n",
            "INFO:tensorflow:loss = 0.37160704, step = 11600 (0.112 sec)\n",
            "INFO:tensorflow:global_step/sec: 876.056\n",
            "INFO:tensorflow:loss = 0.53312075, step = 11700 (0.114 sec)\n",
            "INFO:tensorflow:global_step/sec: 814.732\n",
            "INFO:tensorflow:loss = 0.4588998, step = 11800 (0.123 sec)\n",
            "INFO:tensorflow:global_step/sec: 891.536\n",
            "INFO:tensorflow:loss = 0.3524279, step = 11900 (0.115 sec)\n",
            "INFO:tensorflow:global_step/sec: 878.166\n",
            "INFO:tensorflow:loss = 0.36718786, step = 12000 (0.111 sec)\n",
            "INFO:tensorflow:global_step/sec: 871.553\n",
            "INFO:tensorflow:loss = 0.39074305, step = 12100 (0.115 sec)\n",
            "INFO:tensorflow:global_step/sec: 900.226\n",
            "INFO:tensorflow:loss = 0.4684245, step = 12200 (0.111 sec)\n",
            "INFO:tensorflow:global_step/sec: 822.808\n",
            "INFO:tensorflow:loss = 0.61827826, step = 12300 (0.123 sec)\n",
            "INFO:tensorflow:global_step/sec: 871.048\n",
            "INFO:tensorflow:loss = 0.52275705, step = 12400 (0.113 sec)\n",
            "INFO:tensorflow:global_step/sec: 894.348\n",
            "INFO:tensorflow:loss = 0.46965986, step = 12500 (0.113 sec)\n",
            "INFO:tensorflow:global_step/sec: 819.791\n",
            "INFO:tensorflow:loss = 0.7451743, step = 12600 (0.121 sec)\n",
            "INFO:tensorflow:global_step/sec: 836.397\n",
            "INFO:tensorflow:loss = 0.44216374, step = 12700 (0.119 sec)\n",
            "INFO:tensorflow:global_step/sec: 842.494\n",
            "INFO:tensorflow:loss = 0.5283447, step = 12800 (0.121 sec)\n",
            "INFO:tensorflow:global_step/sec: 850.868\n",
            "INFO:tensorflow:loss = 0.5078481, step = 12900 (0.116 sec)\n",
            "INFO:tensorflow:global_step/sec: 872.368\n",
            "INFO:tensorflow:loss = 0.6461308, step = 13000 (0.115 sec)\n",
            "INFO:tensorflow:global_step/sec: 897.669\n",
            "INFO:tensorflow:loss = 0.6809833, step = 13100 (0.112 sec)\n",
            "INFO:tensorflow:global_step/sec: 811.025\n",
            "INFO:tensorflow:loss = 0.43993604, step = 13200 (0.123 sec)\n",
            "INFO:tensorflow:Calling checkpoint listeners before saving checkpoint 13300...\n",
            "INFO:tensorflow:Saving checkpoints for 13300 into /tmp/tmp0k7wa5vg/model.ckpt.\n",
            "INFO:tensorflow:Calling checkpoint listeners after saving checkpoint 13300...\n",
            "INFO:tensorflow:Loss for final step: 0.3223269.\n"
          ],
          "name": "stdout"
        },
        {
          "output_type": "execute_result",
          "data": {
            "text/plain": [
              "<tensorflow_estimator.python.estimator.canned.linear.LinearClassifierV2 at 0x7f87d9ed9fd0>"
            ]
          },
          "metadata": {
            "tags": []
          },
          "execution_count": 177
        }
      ]
    },
    {
      "cell_type": "code",
      "metadata": {
        "colab": {
          "base_uri": "https://localhost:8080/"
        },
        "id": "KZUsz-UKj5vF",
        "outputId": "28c7576f-588e-48bb-9bb9-a1007f09aa3e"
      },
      "source": [
        "result = linear_est.evaluate(eval_input_fn)\r\n",
        "clear_output()\r\n",
        "print(result[\"accuracy\"])"
      ],
      "execution_count": 179,
      "outputs": [
        {
          "output_type": "stream",
          "text": [
            "0.7297297\n"
          ],
          "name": "stdout"
        }
      ]
    },
    {
      "cell_type": "code",
      "metadata": {
        "colab": {
          "base_uri": "https://localhost:8080/"
        },
        "id": "3mv6CF-xlHiv",
        "outputId": "95c9b8cc-61b0-47e0-8436-306a1384f355"
      },
      "source": [
        "result = list(linear_est.predict(eval_input_fn))\r\n",
        "print(x_train.iloc[12])\r\n",
        "print(y_train.iloc[12])\r\n",
        "print(result[12][\"probabilities\"][1])"
      ],
      "execution_count": 185,
      "outputs": [
        {
          "output_type": "stream",
          "text": [
            "INFO:tensorflow:Calling model_fn.\n"
          ],
          "name": "stdout"
        },
        {
          "output_type": "stream",
          "text": [
            "/usr/local/lib/python3.6/dist-packages/tensorflow/python/keras/engine/base_layer_v1.py:1727: UserWarning: `layer.add_variable` is deprecated and will be removed in a future version. Please use `layer.add_weight` method instead.\n",
            "  warnings.warn('`layer.add_variable` is deprecated and '\n"
          ],
          "name": "stderr"
        },
        {
          "output_type": "stream",
          "text": [
            "INFO:tensorflow:Done calling model_fn.\n",
            "INFO:tensorflow:Graph was finalized.\n",
            "INFO:tensorflow:Restoring parameters from /tmp/tmp0k7wa5vg/model.ckpt-13300\n",
            "INFO:tensorflow:Running local_init_op.\n",
            "INFO:tensorflow:Done running local_init_op.\n",
            "Pclass            1\n",
            "Sex          female\n",
            "Age              21\n",
            "SibSp             0\n",
            "Parch             0\n",
            "Fare        77.9583\n",
            "Cabin            D9\n",
            "Embarked          S\n",
            "Name: 627, dtype: object\n",
            "1\n",
            "0.8317993\n"
          ],
          "name": "stdout"
        }
      ]
    },
    {
      "cell_type": "code",
      "metadata": {
        "id": "M5gahKG9wrei"
      },
      "source": [
        ""
      ],
      "execution_count": null,
      "outputs": []
    }
  ]
}